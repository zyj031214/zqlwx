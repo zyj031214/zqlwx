{
 "cells": [
  {
   "cell_type": "code",
   "execution_count": 1,
   "metadata": {},
   "outputs": [
    {
     "name": "stdout",
     "output_type": "stream",
     "text": [
      "这是一个python程序，感觉不错\n"
     ]
    }
   ],
   "source": [
    "print('这是一个python程序，感觉不错')"
   ]
  },
  {
   "cell_type": "code",
   "execution_count": 2,
   "metadata": {},
   "outputs": [
    {
     "data": {
      "text/plain": [
       "''"
      ]
     },
     "execution_count": 2,
     "metadata": {},
     "output_type": "execute_result"
    }
   ],
   "source": [
    "# 以下是对变量的练习\n",
    "''\n",
    "''"
   ]
  },
  {
   "cell_type": "code",
   "execution_count": 3,
   "metadata": {},
   "outputs": [
    {
     "name": "stdout",
     "output_type": "stream",
     "text": [
      "初始资金：100000 <class 'int'>\n",
      "现存资金:99996.5 <class 'float'>\n"
     ]
    }
   ],
   "source": [
    "# 数字类型\n",
    "\n",
    "money = 100000\n",
    "\n",
    "# type函数可以查看变量的类型\n",
    "# 使用str等函数，可以进行数据类型的转换\n",
    "print('初始资金：'+str(money),type(money))\n",
    "money = money-3.5\n",
    "print('现存资金:'+str(money),type(money))"
   ]
  },
  {
   "cell_type": "code",
   "execution_count": 4,
   "metadata": {},
   "outputs": [
    {
     "name": "stdout",
     "output_type": "stream",
     "text": [
      "<class 'str'>\n",
      "崆峒真人使用了太虚剑法\n"
     ]
    }
   ],
   "source": [
    "# 字符串\n",
    "\n",
    "# 字符串是一种序列\n",
    "title = '崆峒真人'\n",
    "skill = '太虚剑法'\n",
    "print(type(title))\n",
    "print(title + '使用了' + skill)"
   ]
  },
  {
   "cell_type": "code",
   "execution_count": 2,
   "metadata": {},
   "outputs": [
    {
     "name": "stdout",
     "output_type": "stream",
     "text": [
      "<class 'tuple'>\n",
      "<class 'list'>\n",
      "<class 'set'>\n",
      "<class 'set'>\n"
     ]
    }
   ],
   "source": [
    "# 其他类型\n",
    "\n",
    "a = (1,2,3)\n",
    "print(type(a))\n",
    "b = [1,2,3]\n",
    "print(type(b))\n",
    "c = {1,2,3}\n",
    "print(type(c))\n",
    "d = {'姓名:''小明','性别''男'}\n",
    "print(type(d))"
   ]
  }
 ],
 "metadata": {
  "kernelspec": {
   "display_name": "Python 3",
   "language": "python",
   "name": "python3"
  },
  "language_info": {
   "codemirror_mode": {
    "name": "ipython",
    "version": 3
   },
   "file_extension": ".py",
   "mimetype": "text/x-python",
   "name": "python",
   "nbconvert_exporter": "python",
   "pygments_lexer": "ipython3",
   "version": "3.8.10"
  },
  "orig_nbformat": 4
 },
 "nbformat": 4,
 "nbformat_minor": 2
}
