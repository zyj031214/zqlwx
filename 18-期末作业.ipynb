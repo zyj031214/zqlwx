{
 "cells": [
  {
   "cell_type": "code",
   "execution_count": 876,
   "metadata": {},
   "outputs": [],
   "source": [
    "import mytools\n",
    "import pandas as pd"
   ]
  },
  {
   "cell_type": "code",
   "execution_count": 877,
   "metadata": {},
   "outputs": [],
   "source": [
    "数据表=mytools.读取SPSS数据文件(R'C:\\Users\\34426\\Desktop\\zqlwx\\demo.sav')"
   ]
  },
  {
   "cell_type": "code",
   "execution_count": 878,
   "metadata": {},
   "outputs": [],
   "source": [
    "数据表.rename(columns={\n",
    "    '@10、1您家里有':'家庭规模',\n",
    "    '@10、2口人，是':'代际',\n",
    "    '@3、您的婚姻状况：':'婚姻状况',\n",
    "    '@9、您的月收入大约是多少？':'月收入',\n",
    "    }, inplace=True)"
   ]
  },
  {
   "cell_type": "code",
   "execution_count": 879,
   "metadata": {},
   "outputs": [],
   "source": [
    "#数据清理"
   ]
  },
  {
   "cell_type": "code",
   "execution_count": 880,
   "metadata": {},
   "outputs": [
    {
     "data": {
      "text/html": [
       "<div>\n",
       "<style scoped>\n",
       "    .dataframe tbody tr th:only-of-type {\n",
       "        vertical-align: middle;\n",
       "    }\n",
       "\n",
       "    .dataframe tbody tr th {\n",
       "        vertical-align: top;\n",
       "    }\n",
       "\n",
       "    .dataframe thead th {\n",
       "        text-align: right;\n",
       "    }\n",
       "</style>\n",
       "<table border=\"1\" class=\"dataframe\">\n",
       "  <thead>\n",
       "    <tr style=\"text-align: right;\">\n",
       "      <th></th>\n",
       "      <th>序号</th>\n",
       "      <th>@1、您的性别：</th>\n",
       "      <th>@2、您的年龄：</th>\n",
       "      <th>婚姻状况</th>\n",
       "      <th>@4、您的受教育程度是：</th>\n",
       "      <th>@5、您的政治面貌：</th>\n",
       "      <th>@7、您的信仰是：</th>\n",
       "      <th>@8、您的职业是：</th>\n",
       "      <th>月收入</th>\n",
       "      <th>家庭规模</th>\n",
       "      <th>...</th>\n",
       "      <th>每周上网时长</th>\n",
       "      <th>生活满意度</th>\n",
       "      <th>生活满意度区间</th>\n",
       "      <th>工作满意度</th>\n",
       "      <th>工作满意度区间</th>\n",
       "      <th>Q21_3_T</th>\n",
       "      <th>Q21_5_T</th>\n",
       "      <th>Q21_9_T</th>\n",
       "      <th>Q21_10_T</th>\n",
       "      <th>自尊</th>\n",
       "    </tr>\n",
       "  </thead>\n",
       "  <tbody>\n",
       "    <tr>\n",
       "      <th>0</th>\n",
       "      <td>94.0</td>\n",
       "      <td>1.0</td>\n",
       "      <td>58.0</td>\n",
       "      <td>NaN</td>\n",
       "      <td>未上过学</td>\n",
       "      <td>群众</td>\n",
       "      <td>佛教</td>\n",
       "      <td>牧民</td>\n",
       "      <td>NaN</td>\n",
       "      <td>NaN</td>\n",
       "      <td>...</td>\n",
       "      <td>NaN</td>\n",
       "      <td>24.0</td>\n",
       "      <td>基本满意</td>\n",
       "      <td>25.0</td>\n",
       "      <td>基本满意</td>\n",
       "      <td>3.0</td>\n",
       "      <td>3.0</td>\n",
       "      <td>3.0</td>\n",
       "      <td>3.0</td>\n",
       "      <td>30.0</td>\n",
       "    </tr>\n",
       "    <tr>\n",
       "      <th>1</th>\n",
       "      <td>30.0</td>\n",
       "      <td>1.0</td>\n",
       "      <td>45.0</td>\n",
       "      <td>已婚</td>\n",
       "      <td>未上过学</td>\n",
       "      <td>群众</td>\n",
       "      <td>佛教</td>\n",
       "      <td>牧民</td>\n",
       "      <td>NaN</td>\n",
       "      <td>NaN</td>\n",
       "      <td>...</td>\n",
       "      <td>NaN</td>\n",
       "      <td>26.0</td>\n",
       "      <td>满意</td>\n",
       "      <td>26.0</td>\n",
       "      <td>满意</td>\n",
       "      <td>3.0</td>\n",
       "      <td>3.0</td>\n",
       "      <td>3.0</td>\n",
       "      <td>3.0</td>\n",
       "      <td>30.0</td>\n",
       "    </tr>\n",
       "  </tbody>\n",
       "</table>\n",
       "<p>2 rows × 93 columns</p>\n",
       "</div>"
      ],
      "text/plain": [
       "     序号  @1、您的性别：  @2、您的年龄： 婚姻状况 @4、您的受教育程度是： @5、您的政治面貌： @7、您的信仰是： @8、您的职业是：  \\\n",
       "0  94.0       1.0      58.0  NaN         未上过学         群众        佛教        牧民   \n",
       "1  30.0       1.0      45.0   已婚         未上过学         群众        佛教        牧民   \n",
       "\n",
       "   月收入  家庭规模  ... 每周上网时长 生活满意度 生活满意度区间 工作满意度 工作满意度区间 Q21_3_T Q21_5_T Q21_9_T  \\\n",
       "0  NaN   NaN  ...    NaN  24.0    基本满意  25.0    基本满意     3.0     3.0     3.0   \n",
       "1  NaN   NaN  ...    NaN  26.0      满意  26.0      满意     3.0     3.0     3.0   \n",
       "\n",
       "   Q21_10_T    自尊  \n",
       "0       3.0  30.0  \n",
       "1       3.0  30.0  \n",
       "\n",
       "[2 rows x 93 columns]"
      ]
     },
     "execution_count": 880,
     "metadata": {},
     "output_type": "execute_result"
    }
   ],
   "source": [
    "### 重复值处理\n",
    "数据表.drop_duplicates(subset=['序号'],keep='first',inplace=True)\n",
    "### 空白值处理\n",
    "# 查看变量是否存在空白值\n",
    "数据表[数据表.isnull().T.any()].head(2)\n",
    "# 数据表['婚姻状况'].isnull()"
   ]
  },
  {
   "cell_type": "code",
   "execution_count": 881,
   "metadata": {},
   "outputs": [],
   "source": [
    "#数据转化"
   ]
  },
  {
   "cell_type": "code",
   "execution_count": 882,
   "metadata": {},
   "outputs": [],
   "source": [
    "# 对指定变量填充空白值\n",
    "数据表['婚姻状况'].fillna('已婚', inplace=True)\n",
    "数据表['月收入'].fillna('三千元以下', inplace=True)\n",
    "数据表['家庭规模'].fillna(6, inplace=True)"
   ]
  },
  {
   "cell_type": "code",
   "execution_count": 883,
   "metadata": {},
   "outputs": [],
   "source": [
    "# 对特定值进行替换\n",
    "数据表['代际'].replace({'(空)':None}, inplace=True)\n",
    "数据表['代际'].fillna(3, inplace=True)"
   ]
  },
  {
   "cell_type": "code",
   "execution_count": 884,
   "metadata": {},
   "outputs": [
    {
     "data": {
      "text/html": [
       "<div>\n",
       "<style scoped>\n",
       "    .dataframe tbody tr th:only-of-type {\n",
       "        vertical-align: middle;\n",
       "    }\n",
       "\n",
       "    .dataframe tbody tr th {\n",
       "        vertical-align: top;\n",
       "    }\n",
       "\n",
       "    .dataframe thead th {\n",
       "        text-align: right;\n",
       "    }\n",
       "</style>\n",
       "<table border=\"1\" class=\"dataframe\">\n",
       "  <thead>\n",
       "    <tr style=\"text-align: right;\">\n",
       "      <th></th>\n",
       "      <th>序号</th>\n",
       "      <th>@1、您的性别：</th>\n",
       "      <th>@2、您的年龄：</th>\n",
       "      <th>婚姻状况</th>\n",
       "      <th>@4、您的受教育程度是：</th>\n",
       "      <th>@5、您的政治面貌：</th>\n",
       "      <th>@7、您的信仰是：</th>\n",
       "      <th>@8、您的职业是：</th>\n",
       "      <th>月收入</th>\n",
       "      <th>家庭规模</th>\n",
       "      <th>...</th>\n",
       "      <th>每周上网时长</th>\n",
       "      <th>生活满意度</th>\n",
       "      <th>生活满意度区间</th>\n",
       "      <th>工作满意度</th>\n",
       "      <th>工作满意度区间</th>\n",
       "      <th>Q21_3_T</th>\n",
       "      <th>Q21_5_T</th>\n",
       "      <th>Q21_9_T</th>\n",
       "      <th>Q21_10_T</th>\n",
       "      <th>自尊</th>\n",
       "    </tr>\n",
       "  </thead>\n",
       "  <tbody>\n",
       "    <tr>\n",
       "      <th>0</th>\n",
       "      <td>94.0</td>\n",
       "      <td>1.0</td>\n",
       "      <td>58.0</td>\n",
       "      <td>已婚</td>\n",
       "      <td>未上过学</td>\n",
       "      <td>群众</td>\n",
       "      <td>佛教</td>\n",
       "      <td>牧民</td>\n",
       "      <td>三千元以下</td>\n",
       "      <td>6.0</td>\n",
       "      <td>...</td>\n",
       "      <td>NaN</td>\n",
       "      <td>24.0</td>\n",
       "      <td>基本满意</td>\n",
       "      <td>25.0</td>\n",
       "      <td>基本满意</td>\n",
       "      <td>3.0</td>\n",
       "      <td>3.0</td>\n",
       "      <td>3.0</td>\n",
       "      <td>3.0</td>\n",
       "      <td>30.0</td>\n",
       "    </tr>\n",
       "    <tr>\n",
       "      <th>1</th>\n",
       "      <td>30.0</td>\n",
       "      <td>1.0</td>\n",
       "      <td>45.0</td>\n",
       "      <td>已婚</td>\n",
       "      <td>未上过学</td>\n",
       "      <td>群众</td>\n",
       "      <td>佛教</td>\n",
       "      <td>牧民</td>\n",
       "      <td>三千元以下</td>\n",
       "      <td>6.0</td>\n",
       "      <td>...</td>\n",
       "      <td>NaN</td>\n",
       "      <td>26.0</td>\n",
       "      <td>满意</td>\n",
       "      <td>26.0</td>\n",
       "      <td>满意</td>\n",
       "      <td>3.0</td>\n",
       "      <td>3.0</td>\n",
       "      <td>3.0</td>\n",
       "      <td>3.0</td>\n",
       "      <td>30.0</td>\n",
       "    </tr>\n",
       "  </tbody>\n",
       "</table>\n",
       "<p>2 rows × 93 columns</p>\n",
       "</div>"
      ],
      "text/plain": [
       "     序号  @1、您的性别：  @2、您的年龄： 婚姻状况 @4、您的受教育程度是： @5、您的政治面貌： @7、您的信仰是： @8、您的职业是：  \\\n",
       "0  94.0       1.0      58.0   已婚         未上过学         群众        佛教        牧民   \n",
       "1  30.0       1.0      45.0   已婚         未上过学         群众        佛教        牧民   \n",
       "\n",
       "     月收入  家庭规模  ...  每周上网时长 生活满意度 生活满意度区间 工作满意度 工作满意度区间 Q21_3_T Q21_5_T  \\\n",
       "0  三千元以下   6.0  ...     NaN  24.0    基本满意  25.0    基本满意     3.0     3.0   \n",
       "1  三千元以下   6.0  ...     NaN  26.0      满意  26.0      满意     3.0     3.0   \n",
       "\n",
       "  Q21_9_T  Q21_10_T    自尊  \n",
       "0     3.0       3.0  30.0  \n",
       "1     3.0       3.0  30.0  \n",
       "\n",
       "[2 rows x 93 columns]"
      ]
     },
     "execution_count": 884,
     "metadata": {},
     "output_type": "execute_result"
    }
   ],
   "source": [
    "# 设定变量类型\n",
    "数据表.astype({'代际':'int'}).head(2)"
   ]
  },
  {
   "cell_type": "code",
   "execution_count": 885,
   "metadata": {},
   "outputs": [
    {
     "data": {
      "text/plain": [
       "0     2.0\n",
       "1     2.0\n",
       "2     2.0\n",
       "3     2.0\n",
       "4     3.0\n",
       "     ... \n",
       "89    3.0\n",
       "90    4.0\n",
       "91    2.0\n",
       "92    4.0\n",
       "93    2.0\n",
       "Name: @19、13.我通过网络微信微博QQ等参与社会实践。, Length: 94, dtype: float64"
      ]
     },
     "execution_count": 885,
     "metadata": {},
     "output_type": "execute_result"
    }
   ],
   "source": [
    "# 生成变量\n",
    "数据表['信息鉴别能力'] = 数据表['@19、9.我能够通过信息发布机构的权威性判断信']     + 数据表['@19、10.我通过网络微信微博QQ等分享社会时事新']\n",
    "+ 数据表['@19、11.我通过网络微信微博QQ等参与投票、网络']\n",
    "+ 数据表['@19、12.我通过网络参与社会公共事件讨论。']\n",
    "+ 数据表['@19、13.我通过网络微信微博QQ等参与社会实践。']"
   ]
  },
  {
   "cell_type": "code",
   "execution_count": 886,
   "metadata": {},
   "outputs": [
    {
     "name": "stdout",
     "output_type": "stream",
     "text": [
      "Index(['序号', '@1、您的性别：', '@2、您的年龄：', '婚姻状况', '@4、您的受教育程度是：', '@5、您的政治面貌：',\n",
      "       '@7、您的信仰是：', '@8、您的职业是：', '月收入', '家庭规模', '代际', '@10、3代人，家里有',\n",
      "       '@10、4位老人，家里有', '@10、5个小孩，外出打工的人有___人。', '@11、您平常是否通过电脑上网？',\n",
      "       '@12、您平常是否通过手机上网？', '@13、您平时一周有几天通过电脑上网？', '@14、您平时一周有几天通过手机上网？',\n",
      "       '@15、1您每天通过手机上网的时间大概为', '@15、2分钟，您每天通过电脑上网的时间为', '@15、3分钟，您每个月的手机话费为',\n",
      "       '@15、4元，您家的宽带费为___元。', '@16、互联网使用行为（问卷17题至26题）—17、您',\n",
      "       '@16、18、您认为您在上网时使用搜索引擎（百度', '@16、19、您经常会通过互联网（辣椒直播、下厨',\n",
      "       '@16、20、您认为您玩手机网络游戏（斗地主、斗', '@16、21、您经常会通过互联网观看小说么？',\n",
      "       '@16、22、您经常会通过互联网观看视频（快手、', '@16、23、您认为您通过即时通讯（微信、QQ）与他',\n",
      "       '@16、24、您经常会通过社交网络（微博、陌陌、', '@16、25、您认为您在互联网（淘宝、拼多多、京',\n",
      "       '@16、26、您经常使用移动支付（支付宝、微信支', 'Q17_1', 'Q17_2', 'Q17_3', 'Q17_4', 'Q17_5',\n",
      "       '@18、请表述您最近一周的情感状况—6.爱', '@18、7.愉悦', '@18、8.自豪', '@18、9.愤怒',\n",
      "       '@18、10.忧虑', '@18、11.悲哀', '@19、第三部分—1.我能够获得足够有用的媒介信',\n",
      "       '@19、2.我能够不断更新自己的信息获取技能。', '@19、3.我具有较强的信息获取意识。',\n",
      "       '@19、4.我能够熟练使用软件工具进行信息检索。', '@19、5.我能够通过寻找佐证资料判断信息的可信',\n",
      "       '@19、6.能够通过标题、内容等判断信息的可信度', '@19、7.我能够判断当前信息是在陈述事实还是表',\n",
      "       '@19、8.我能够评估媒介信息内容对他人或社会可', '@19、9.我能够通过信息发布机构的权威性判断信',\n",
      "       '@19、10.我通过网络微信微博QQ等分享社会时事新', '@19、11.我通过网络微信微博QQ等参与投票、网络',\n",
      "       '@19、12.我通过网络参与社会公共事件讨论。', '@19、13.我通过网络微信微博QQ等参与社会实践。',\n",
      "       '@19、14.我通过网络微信微博QQ等与他人交流沟通', '@19、15.我通过网络微信微博QQ等分享个人动态信',\n",
      "       '@19、16.我通过网络微信微博QQ等表达个人观点发', '@19、17.我通过网络网络微信微博QQ等与他人协作',\n",
      "       '@19、18.我能够对音视频素材进行转换格式、压缩', '@19、19.我能够对图像素材进行格式转换、压缩与',\n",
      "       '@19、20.我能够对多媒体素材进行合成与发布。', 'Q20_1', 'Q20_2', 'Q20_3', 'Q20_4', 'Q20_5',\n",
      "       'Q21_1', 'Q21_2', 'Q21_3', 'Q21_4', 'Q21_5', 'Q21_6', 'Q21_7', 'Q21_8',\n",
      "       'Q21_9', 'Q21_10', '@25、调研日期（根据调研日期填写3、4、5或其他', '@27、调研地点', '@28、问卷编号',\n",
      "       '@30、问卷录入过程中其他需要说明的问题（若没', '年龄段', '每周上网时长', '生活满意度', '生活满意度区间', '工作满意度',\n",
      "       '工作满意度区间', 'Q21_3_T', 'Q21_5_T', 'Q21_9_T', 'Q21_10_T', '自尊', '信息鉴别能力'],\n",
      "      dtype='object')\n"
     ]
    }
   ],
   "source": [
    "print(数据表.columns)"
   ]
  },
  {
   "cell_type": "code",
   "execution_count": 887,
   "metadata": {},
   "outputs": [
    {
     "data": {
      "text/plain": [
       "@4、您的受教育程度是：\n",
       "小学      0.542553\n",
       "未上过学    0.329787\n",
       "初中      0.074468\n",
       "高中      0.031915\n",
       "大学      0.021277\n",
       "Name: proportion, dtype: float64"
      ]
     },
     "execution_count": 887,
     "metadata": {},
     "output_type": "execute_result"
    }
   ],
   "source": [
    "#单变量数据分析\n",
    "\n",
    "# 单变量描述统计\n",
    "## 无序类别变量描述统计\n",
    "\n",
    "import pandas as pd\n",
    "import matplotlib.pyplot as plt\n",
    "df=pd.read_spss(R\"C:\\Users\\34426\\Desktop\\zqlwx\\demo.sav\")\n",
    "df[\"@4、您的受教育程度是：\"].value_counts(normalize=True)"
   ]
  },
  {
   "cell_type": "code",
   "execution_count": 888,
   "metadata": {},
   "outputs": [
    {
     "data": {
      "text/html": [
       "<div>\n",
       "<style scoped>\n",
       "    .dataframe tbody tr th:only-of-type {\n",
       "        vertical-align: middle;\n",
       "    }\n",
       "\n",
       "    .dataframe tbody tr th {\n",
       "        vertical-align: top;\n",
       "    }\n",
       "\n",
       "    .dataframe thead th {\n",
       "        text-align: right;\n",
       "    }\n",
       "</style>\n",
       "<table border=\"1\" class=\"dataframe\">\n",
       "  <thead>\n",
       "    <tr style=\"text-align: right;\">\n",
       "      <th></th>\n",
       "      <th>count</th>\n",
       "      <th>比例</th>\n",
       "      <th>累计比例</th>\n",
       "    </tr>\n",
       "    <tr>\n",
       "      <th>@4、您的受教育程度是：</th>\n",
       "      <th></th>\n",
       "      <th></th>\n",
       "      <th></th>\n",
       "    </tr>\n",
       "  </thead>\n",
       "  <tbody>\n",
       "    <tr>\n",
       "      <th>未上过学</th>\n",
       "      <td>31</td>\n",
       "      <td>0.329787</td>\n",
       "      <td>0.329787</td>\n",
       "    </tr>\n",
       "    <tr>\n",
       "      <th>小学</th>\n",
       "      <td>51</td>\n",
       "      <td>0.542553</td>\n",
       "      <td>0.872340</td>\n",
       "    </tr>\n",
       "    <tr>\n",
       "      <th>初中</th>\n",
       "      <td>7</td>\n",
       "      <td>0.074468</td>\n",
       "      <td>0.946809</td>\n",
       "    </tr>\n",
       "    <tr>\n",
       "      <th>高中</th>\n",
       "      <td>3</td>\n",
       "      <td>0.031915</td>\n",
       "      <td>0.978723</td>\n",
       "    </tr>\n",
       "    <tr>\n",
       "      <th>大学</th>\n",
       "      <td>2</td>\n",
       "      <td>0.021277</td>\n",
       "      <td>1.000000</td>\n",
       "    </tr>\n",
       "    <tr>\n",
       "      <th>研究生及以上</th>\n",
       "      <td>0</td>\n",
       "      <td>0.000000</td>\n",
       "      <td>1.000000</td>\n",
       "    </tr>\n",
       "  </tbody>\n",
       "</table>\n",
       "</div>"
      ],
      "text/plain": [
       "              count        比例      累计比例\n",
       "@4、您的受教育程度是：                           \n",
       "未上过学             31  0.329787  0.329787\n",
       "小学               51  0.542553  0.872340\n",
       "初中                7  0.074468  0.946809\n",
       "高中                3  0.031915  0.978723\n",
       "大学                2  0.021277  1.000000\n",
       "研究生及以上            0  0.000000  1.000000"
      ]
     },
     "execution_count": 888,
     "metadata": {},
     "output_type": "execute_result"
    }
   ],
   "source": [
    "描述统计结果表 = mytools.有序变量描述统计函数(数据表,'@4、您的受教育程度是：')\n",
    "描述统计结果表"
   ]
  },
  {
   "cell_type": "code",
   "execution_count": 889,
   "metadata": {},
   "outputs": [
    {
     "data": {
      "application/vnd.plotly.v1+json": {
       "config": {
        "plotlyServerURL": "https://plot.ly"
       },
       "data": [
        {
         "type": "scatter",
         "x": [
          94,
          30,
          31,
          93,
          76,
          90,
          26,
          68,
          73,
          19,
          89,
          24,
          74,
          10,
          20,
          21,
          28,
          29,
          60,
          61,
          72,
          86,
          15,
          41,
          62,
          63,
          64,
          67,
          75,
          3,
          6,
          38,
          56,
          79,
          88,
          1,
          7,
          8,
          9,
          11,
          12,
          14,
          16,
          17,
          18,
          25,
          27,
          59,
          71,
          57,
          92,
          22,
          33,
          51,
          65,
          69,
          70,
          77,
          80,
          81,
          83,
          84,
          85,
          23,
          32,
          34,
          36,
          39,
          45,
          46,
          47,
          48,
          49,
          52,
          66,
          78,
          82,
          87,
          91,
          44,
          54,
          2,
          4,
          5,
          13,
          35,
          37,
          40,
          42,
          43,
          50,
          53,
          55,
          58
         ],
         "y": [
          "未上过学",
          "未上过学",
          "未上过学",
          "小学",
          "小学",
          "初中",
          "小学",
          "小学",
          "小学",
          "初中",
          "高中",
          "大学",
          "高中",
          "小学",
          "未上过学",
          "未上过学",
          "未上过学",
          "未上过学",
          "小学",
          "小学",
          "未上过学",
          "未上过学",
          "未上过学",
          "小学",
          "小学",
          "未上过学",
          "未上过学",
          "未上过学",
          "未上过学",
          "小学",
          "高中",
          "小学",
          "小学",
          "小学",
          "小学",
          "小学",
          "小学",
          "小学",
          "小学",
          "小学",
          "小学",
          "小学",
          "小学",
          "小学",
          "小学",
          "小学",
          "未上过学",
          "初中",
          "未上过学",
          "未上过学",
          "未上过学",
          "未上过学",
          "小学",
          "小学",
          "未上过学",
          "小学",
          "小学",
          "未上过学",
          "未上过学",
          "未上过学",
          "未上过学",
          "小学",
          "未上过学",
          "小学",
          "小学",
          "未上过学",
          "小学",
          "小学",
          "小学",
          "小学",
          "未上过学",
          "初中",
          "小学",
          "小学",
          "未上过学",
          "未上过学",
          "小学",
          "小学",
          "小学",
          "未上过学",
          "小学",
          "初中",
          "初中",
          "小学",
          "小学",
          "小学",
          "未上过学",
          "小学",
          "小学",
          "小学",
          "初中",
          "小学",
          "小学",
          "大学"
         ]
        }
       ],
       "layout": {
        "template": {
         "data": {
          "bar": [
           {
            "error_x": {
             "color": "#2a3f5f"
            },
            "error_y": {
             "color": "#2a3f5f"
            },
            "marker": {
             "line": {
              "color": "#E5ECF6",
              "width": 0.5
             },
             "pattern": {
              "fillmode": "overlay",
              "size": 10,
              "solidity": 0.2
             }
            },
            "type": "bar"
           }
          ],
          "barpolar": [
           {
            "marker": {
             "line": {
              "color": "#E5ECF6",
              "width": 0.5
             },
             "pattern": {
              "fillmode": "overlay",
              "size": 10,
              "solidity": 0.2
             }
            },
            "type": "barpolar"
           }
          ],
          "carpet": [
           {
            "aaxis": {
             "endlinecolor": "#2a3f5f",
             "gridcolor": "white",
             "linecolor": "white",
             "minorgridcolor": "white",
             "startlinecolor": "#2a3f5f"
            },
            "baxis": {
             "endlinecolor": "#2a3f5f",
             "gridcolor": "white",
             "linecolor": "white",
             "minorgridcolor": "white",
             "startlinecolor": "#2a3f5f"
            },
            "type": "carpet"
           }
          ],
          "choropleth": [
           {
            "colorbar": {
             "outlinewidth": 0,
             "ticks": ""
            },
            "type": "choropleth"
           }
          ],
          "contour": [
           {
            "colorbar": {
             "outlinewidth": 0,
             "ticks": ""
            },
            "colorscale": [
             [
              0,
              "#0d0887"
             ],
             [
              0.1111111111111111,
              "#46039f"
             ],
             [
              0.2222222222222222,
              "#7201a8"
             ],
             [
              0.3333333333333333,
              "#9c179e"
             ],
             [
              0.4444444444444444,
              "#bd3786"
             ],
             [
              0.5555555555555556,
              "#d8576b"
             ],
             [
              0.6666666666666666,
              "#ed7953"
             ],
             [
              0.7777777777777778,
              "#fb9f3a"
             ],
             [
              0.8888888888888888,
              "#fdca26"
             ],
             [
              1,
              "#f0f921"
             ]
            ],
            "type": "contour"
           }
          ],
          "contourcarpet": [
           {
            "colorbar": {
             "outlinewidth": 0,
             "ticks": ""
            },
            "type": "contourcarpet"
           }
          ],
          "heatmap": [
           {
            "colorbar": {
             "outlinewidth": 0,
             "ticks": ""
            },
            "colorscale": [
             [
              0,
              "#0d0887"
             ],
             [
              0.1111111111111111,
              "#46039f"
             ],
             [
              0.2222222222222222,
              "#7201a8"
             ],
             [
              0.3333333333333333,
              "#9c179e"
             ],
             [
              0.4444444444444444,
              "#bd3786"
             ],
             [
              0.5555555555555556,
              "#d8576b"
             ],
             [
              0.6666666666666666,
              "#ed7953"
             ],
             [
              0.7777777777777778,
              "#fb9f3a"
             ],
             [
              0.8888888888888888,
              "#fdca26"
             ],
             [
              1,
              "#f0f921"
             ]
            ],
            "type": "heatmap"
           }
          ],
          "heatmapgl": [
           {
            "colorbar": {
             "outlinewidth": 0,
             "ticks": ""
            },
            "colorscale": [
             [
              0,
              "#0d0887"
             ],
             [
              0.1111111111111111,
              "#46039f"
             ],
             [
              0.2222222222222222,
              "#7201a8"
             ],
             [
              0.3333333333333333,
              "#9c179e"
             ],
             [
              0.4444444444444444,
              "#bd3786"
             ],
             [
              0.5555555555555556,
              "#d8576b"
             ],
             [
              0.6666666666666666,
              "#ed7953"
             ],
             [
              0.7777777777777778,
              "#fb9f3a"
             ],
             [
              0.8888888888888888,
              "#fdca26"
             ],
             [
              1,
              "#f0f921"
             ]
            ],
            "type": "heatmapgl"
           }
          ],
          "histogram": [
           {
            "marker": {
             "pattern": {
              "fillmode": "overlay",
              "size": 10,
              "solidity": 0.2
             }
            },
            "type": "histogram"
           }
          ],
          "histogram2d": [
           {
            "colorbar": {
             "outlinewidth": 0,
             "ticks": ""
            },
            "colorscale": [
             [
              0,
              "#0d0887"
             ],
             [
              0.1111111111111111,
              "#46039f"
             ],
             [
              0.2222222222222222,
              "#7201a8"
             ],
             [
              0.3333333333333333,
              "#9c179e"
             ],
             [
              0.4444444444444444,
              "#bd3786"
             ],
             [
              0.5555555555555556,
              "#d8576b"
             ],
             [
              0.6666666666666666,
              "#ed7953"
             ],
             [
              0.7777777777777778,
              "#fb9f3a"
             ],
             [
              0.8888888888888888,
              "#fdca26"
             ],
             [
              1,
              "#f0f921"
             ]
            ],
            "type": "histogram2d"
           }
          ],
          "histogram2dcontour": [
           {
            "colorbar": {
             "outlinewidth": 0,
             "ticks": ""
            },
            "colorscale": [
             [
              0,
              "#0d0887"
             ],
             [
              0.1111111111111111,
              "#46039f"
             ],
             [
              0.2222222222222222,
              "#7201a8"
             ],
             [
              0.3333333333333333,
              "#9c179e"
             ],
             [
              0.4444444444444444,
              "#bd3786"
             ],
             [
              0.5555555555555556,
              "#d8576b"
             ],
             [
              0.6666666666666666,
              "#ed7953"
             ],
             [
              0.7777777777777778,
              "#fb9f3a"
             ],
             [
              0.8888888888888888,
              "#fdca26"
             ],
             [
              1,
              "#f0f921"
             ]
            ],
            "type": "histogram2dcontour"
           }
          ],
          "mesh3d": [
           {
            "colorbar": {
             "outlinewidth": 0,
             "ticks": ""
            },
            "type": "mesh3d"
           }
          ],
          "parcoords": [
           {
            "line": {
             "colorbar": {
              "outlinewidth": 0,
              "ticks": ""
             }
            },
            "type": "parcoords"
           }
          ],
          "pie": [
           {
            "automargin": true,
            "type": "pie"
           }
          ],
          "scatter": [
           {
            "fillpattern": {
             "fillmode": "overlay",
             "size": 10,
             "solidity": 0.2
            },
            "type": "scatter"
           }
          ],
          "scatter3d": [
           {
            "line": {
             "colorbar": {
              "outlinewidth": 0,
              "ticks": ""
             }
            },
            "marker": {
             "colorbar": {
              "outlinewidth": 0,
              "ticks": ""
             }
            },
            "type": "scatter3d"
           }
          ],
          "scattercarpet": [
           {
            "marker": {
             "colorbar": {
              "outlinewidth": 0,
              "ticks": ""
             }
            },
            "type": "scattercarpet"
           }
          ],
          "scattergeo": [
           {
            "marker": {
             "colorbar": {
              "outlinewidth": 0,
              "ticks": ""
             }
            },
            "type": "scattergeo"
           }
          ],
          "scattergl": [
           {
            "marker": {
             "colorbar": {
              "outlinewidth": 0,
              "ticks": ""
             }
            },
            "type": "scattergl"
           }
          ],
          "scattermapbox": [
           {
            "marker": {
             "colorbar": {
              "outlinewidth": 0,
              "ticks": ""
             }
            },
            "type": "scattermapbox"
           }
          ],
          "scatterpolar": [
           {
            "marker": {
             "colorbar": {
              "outlinewidth": 0,
              "ticks": ""
             }
            },
            "type": "scatterpolar"
           }
          ],
          "scatterpolargl": [
           {
            "marker": {
             "colorbar": {
              "outlinewidth": 0,
              "ticks": ""
             }
            },
            "type": "scatterpolargl"
           }
          ],
          "scatterternary": [
           {
            "marker": {
             "colorbar": {
              "outlinewidth": 0,
              "ticks": ""
             }
            },
            "type": "scatterternary"
           }
          ],
          "surface": [
           {
            "colorbar": {
             "outlinewidth": 0,
             "ticks": ""
            },
            "colorscale": [
             [
              0,
              "#0d0887"
             ],
             [
              0.1111111111111111,
              "#46039f"
             ],
             [
              0.2222222222222222,
              "#7201a8"
             ],
             [
              0.3333333333333333,
              "#9c179e"
             ],
             [
              0.4444444444444444,
              "#bd3786"
             ],
             [
              0.5555555555555556,
              "#d8576b"
             ],
             [
              0.6666666666666666,
              "#ed7953"
             ],
             [
              0.7777777777777778,
              "#fb9f3a"
             ],
             [
              0.8888888888888888,
              "#fdca26"
             ],
             [
              1,
              "#f0f921"
             ]
            ],
            "type": "surface"
           }
          ],
          "table": [
           {
            "cells": {
             "fill": {
              "color": "#EBF0F8"
             },
             "line": {
              "color": "white"
             }
            },
            "header": {
             "fill": {
              "color": "#C8D4E3"
             },
             "line": {
              "color": "white"
             }
            },
            "type": "table"
           }
          ]
         },
         "layout": {
          "annotationdefaults": {
           "arrowcolor": "#2a3f5f",
           "arrowhead": 0,
           "arrowwidth": 1
          },
          "autotypenumbers": "strict",
          "coloraxis": {
           "colorbar": {
            "outlinewidth": 0,
            "ticks": ""
           }
          },
          "colorscale": {
           "diverging": [
            [
             0,
             "#8e0152"
            ],
            [
             0.1,
             "#c51b7d"
            ],
            [
             0.2,
             "#de77ae"
            ],
            [
             0.3,
             "#f1b6da"
            ],
            [
             0.4,
             "#fde0ef"
            ],
            [
             0.5,
             "#f7f7f7"
            ],
            [
             0.6,
             "#e6f5d0"
            ],
            [
             0.7,
             "#b8e186"
            ],
            [
             0.8,
             "#7fbc41"
            ],
            [
             0.9,
             "#4d9221"
            ],
            [
             1,
             "#276419"
            ]
           ],
           "sequential": [
            [
             0,
             "#0d0887"
            ],
            [
             0.1111111111111111,
             "#46039f"
            ],
            [
             0.2222222222222222,
             "#7201a8"
            ],
            [
             0.3333333333333333,
             "#9c179e"
            ],
            [
             0.4444444444444444,
             "#bd3786"
            ],
            [
             0.5555555555555556,
             "#d8576b"
            ],
            [
             0.6666666666666666,
             "#ed7953"
            ],
            [
             0.7777777777777778,
             "#fb9f3a"
            ],
            [
             0.8888888888888888,
             "#fdca26"
            ],
            [
             1,
             "#f0f921"
            ]
           ],
           "sequentialminus": [
            [
             0,
             "#0d0887"
            ],
            [
             0.1111111111111111,
             "#46039f"
            ],
            [
             0.2222222222222222,
             "#7201a8"
            ],
            [
             0.3333333333333333,
             "#9c179e"
            ],
            [
             0.4444444444444444,
             "#bd3786"
            ],
            [
             0.5555555555555556,
             "#d8576b"
            ],
            [
             0.6666666666666666,
             "#ed7953"
            ],
            [
             0.7777777777777778,
             "#fb9f3a"
            ],
            [
             0.8888888888888888,
             "#fdca26"
            ],
            [
             1,
             "#f0f921"
            ]
           ]
          },
          "colorway": [
           "#636efa",
           "#EF553B",
           "#00cc96",
           "#ab63fa",
           "#FFA15A",
           "#19d3f3",
           "#FF6692",
           "#B6E880",
           "#FF97FF",
           "#FECB52"
          ],
          "font": {
           "color": "#2a3f5f"
          },
          "geo": {
           "bgcolor": "white",
           "lakecolor": "white",
           "landcolor": "#E5ECF6",
           "showlakes": true,
           "showland": true,
           "subunitcolor": "white"
          },
          "hoverlabel": {
           "align": "left"
          },
          "hovermode": "closest",
          "mapbox": {
           "style": "light"
          },
          "paper_bgcolor": "white",
          "plot_bgcolor": "#E5ECF6",
          "polar": {
           "angularaxis": {
            "gridcolor": "white",
            "linecolor": "white",
            "ticks": ""
           },
           "bgcolor": "#E5ECF6",
           "radialaxis": {
            "gridcolor": "white",
            "linecolor": "white",
            "ticks": ""
           }
          },
          "scene": {
           "xaxis": {
            "backgroundcolor": "#E5ECF6",
            "gridcolor": "white",
            "gridwidth": 2,
            "linecolor": "white",
            "showbackground": true,
            "ticks": "",
            "zerolinecolor": "white"
           },
           "yaxis": {
            "backgroundcolor": "#E5ECF6",
            "gridcolor": "white",
            "gridwidth": 2,
            "linecolor": "white",
            "showbackground": true,
            "ticks": "",
            "zerolinecolor": "white"
           },
           "zaxis": {
            "backgroundcolor": "#E5ECF6",
            "gridcolor": "white",
            "gridwidth": 2,
            "linecolor": "white",
            "showbackground": true,
            "ticks": "",
            "zerolinecolor": "white"
           }
          },
          "shapedefaults": {
           "line": {
            "color": "#2a3f5f"
           }
          },
          "ternary": {
           "aaxis": {
            "gridcolor": "white",
            "linecolor": "white",
            "ticks": ""
           },
           "baxis": {
            "gridcolor": "white",
            "linecolor": "white",
            "ticks": ""
           },
           "bgcolor": "#E5ECF6",
           "caxis": {
            "gridcolor": "white",
            "linecolor": "white",
            "ticks": ""
           }
          },
          "title": {
           "x": 0.05
          },
          "xaxis": {
           "automargin": true,
           "gridcolor": "white",
           "linecolor": "white",
           "ticks": "",
           "title": {
            "standoff": 15
           },
           "zerolinecolor": "white",
           "zerolinewidth": 2
          },
          "yaxis": {
           "automargin": true,
           "gridcolor": "white",
           "linecolor": "white",
           "ticks": "",
           "title": {
            "standoff": 15
           },
           "zerolinecolor": "white",
           "zerolinewidth": 2
          }
         }
        }
       }
      }
     },
     "metadata": {},
     "output_type": "display_data"
    }
   ],
   "source": [
    "# 生成图表\n",
    "import plotly.graph_objects as go  \n",
    "import matplotlib.pyplot as plt \n",
    "fig = go.Figure(data=go.Scatter(x=数据表['序号'], y=数据表['@4、您的受教育程度是：']))  \n",
    "fig.show()"
   ]
  },
  {
   "cell_type": "code",
   "execution_count": 890,
   "metadata": {},
   "outputs": [],
   "source": [
    "#双变量数据分析"
   ]
  },
  {
   "cell_type": "code",
   "execution_count": 891,
   "metadata": {},
   "outputs": [
    {
     "data": {
      "text/html": [
       "<div>\n",
       "<style scoped>\n",
       "    .dataframe tbody tr th:only-of-type {\n",
       "        vertical-align: middle;\n",
       "    }\n",
       "\n",
       "    .dataframe tbody tr th {\n",
       "        vertical-align: top;\n",
       "    }\n",
       "\n",
       "    .dataframe thead th {\n",
       "        text-align: right;\n",
       "    }\n",
       "</style>\n",
       "<table border=\"1\" class=\"dataframe\">\n",
       "  <thead>\n",
       "    <tr style=\"text-align: right;\">\n",
       "      <th>信息鉴别能力</th>\n",
       "      <th>2.0</th>\n",
       "      <th>3.0</th>\n",
       "      <th>4.0</th>\n",
       "      <th>5.0</th>\n",
       "      <th>6.0</th>\n",
       "      <th>7.0</th>\n",
       "      <th>8.0</th>\n",
       "      <th>9.0</th>\n",
       "      <th>All</th>\n",
       "    </tr>\n",
       "    <tr>\n",
       "      <th>@4、您的受教育程度是：</th>\n",
       "      <th></th>\n",
       "      <th></th>\n",
       "      <th></th>\n",
       "      <th></th>\n",
       "      <th></th>\n",
       "      <th></th>\n",
       "      <th></th>\n",
       "      <th></th>\n",
       "      <th></th>\n",
       "    </tr>\n",
       "  </thead>\n",
       "  <tbody>\n",
       "    <tr>\n",
       "      <th>未上过学</th>\n",
       "      <td>0.333333</td>\n",
       "      <td>0.0</td>\n",
       "      <td>0.433333</td>\n",
       "      <td>0.347826</td>\n",
       "      <td>0.411765</td>\n",
       "      <td>0.125</td>\n",
       "      <td>0.090909</td>\n",
       "      <td>0.0</td>\n",
       "      <td>0.329787</td>\n",
       "    </tr>\n",
       "    <tr>\n",
       "      <th>小学</th>\n",
       "      <td>0.666667</td>\n",
       "      <td>0.0</td>\n",
       "      <td>0.566667</td>\n",
       "      <td>0.521739</td>\n",
       "      <td>0.588235</td>\n",
       "      <td>0.625</td>\n",
       "      <td>0.454545</td>\n",
       "      <td>0.0</td>\n",
       "      <td>0.542553</td>\n",
       "    </tr>\n",
       "    <tr>\n",
       "      <th>初中</th>\n",
       "      <td>0.000000</td>\n",
       "      <td>1.0</td>\n",
       "      <td>0.000000</td>\n",
       "      <td>0.130435</td>\n",
       "      <td>0.000000</td>\n",
       "      <td>0.250</td>\n",
       "      <td>0.090909</td>\n",
       "      <td>0.0</td>\n",
       "      <td>0.074468</td>\n",
       "    </tr>\n",
       "    <tr>\n",
       "      <th>高中</th>\n",
       "      <td>0.000000</td>\n",
       "      <td>0.0</td>\n",
       "      <td>0.000000</td>\n",
       "      <td>0.000000</td>\n",
       "      <td>0.000000</td>\n",
       "      <td>0.000</td>\n",
       "      <td>0.272727</td>\n",
       "      <td>0.0</td>\n",
       "      <td>0.031915</td>\n",
       "    </tr>\n",
       "    <tr>\n",
       "      <th>大学</th>\n",
       "      <td>0.000000</td>\n",
       "      <td>0.0</td>\n",
       "      <td>0.000000</td>\n",
       "      <td>0.000000</td>\n",
       "      <td>0.000000</td>\n",
       "      <td>0.000</td>\n",
       "      <td>0.090909</td>\n",
       "      <td>1.0</td>\n",
       "      <td>0.021277</td>\n",
       "    </tr>\n",
       "  </tbody>\n",
       "</table>\n",
       "</div>"
      ],
      "text/plain": [
       "信息鉴别能力             2.0  3.0       4.0       5.0       6.0    7.0       8.0  \\\n",
       "@4、您的受教育程度是：                                                                 \n",
       "未上过学          0.333333  0.0  0.433333  0.347826  0.411765  0.125  0.090909   \n",
       "小学            0.666667  0.0  0.566667  0.521739  0.588235  0.625  0.454545   \n",
       "初中            0.000000  1.0  0.000000  0.130435  0.000000  0.250  0.090909   \n",
       "高中            0.000000  0.0  0.000000  0.000000  0.000000  0.000  0.272727   \n",
       "大学            0.000000  0.0  0.000000  0.000000  0.000000  0.000  0.090909   \n",
       "\n",
       "信息鉴别能力        9.0       All  \n",
       "@4、您的受教育程度是：                 \n",
       "未上过学          0.0  0.329787  \n",
       "小学            0.0  0.542553  \n",
       "初中            0.0  0.074468  \n",
       "高中            0.0  0.031915  \n",
       "大学            1.0  0.021277  "
      ]
     },
     "execution_count": 891,
     "metadata": {},
     "output_type": "execute_result"
    }
   ],
   "source": [
    "import pandas as pd\n",
    "pd.crosstab(数据表['@4、您的受教育程度是：'], 数据表['信息鉴别能力'], normalize='columns', margins=True)"
   ]
  },
  {
   "cell_type": "code",
   "execution_count": 892,
   "metadata": {},
   "outputs": [
    {
     "name": "stdout",
     "output_type": "stream",
     "text": [
      "tau_y系数: 0.0881 极弱相关或无相关\n",
      "信息鉴别能力             2.0       3.0       4.0       5.0       6.0       7.0  \\\n",
      "@4、您的受教育程度是：                                                               \n",
      "未上过学          0.010638  0.000000  0.138298  0.085106  0.074468  0.010638   \n",
      "小学            0.021277  0.000000  0.180851  0.127660  0.106383  0.053191   \n",
      "初中            0.000000  0.010638  0.000000  0.031915  0.000000  0.021277   \n",
      "高中            0.000000  0.000000  0.000000  0.000000  0.000000  0.000000   \n",
      "大学            0.000000  0.000000  0.000000  0.000000  0.000000  0.000000   \n",
      "All           0.031915  0.010638  0.319149  0.244681  0.180851  0.085106   \n",
      "\n",
      "信息鉴别能力             8.0       9.0       All  \n",
      "@4、您的受教育程度是：                                \n",
      "未上过学          0.010638  0.000000  0.329787  \n",
      "小学            0.053191  0.000000  0.542553  \n",
      "初中            0.010638  0.000000  0.074468  \n",
      "高中            0.031915  0.000000  0.031915  \n",
      "大学            0.010638  0.010638  0.021277  \n",
      "All           0.117021  0.010638  1.000000  \n",
      "卡方值： 98.00, p值： 0.0000,自由度:28。\n",
      "拒绝虚无假设\n"
     ]
    }
   ],
   "source": [
    "mytools.两个无序类别变量的统计分析(数据表, '@4、您的受教育程度是：','信息鉴别能力')"
   ]
  },
  {
   "cell_type": "code",
   "execution_count": 893,
   "metadata": {},
   "outputs": [],
   "source": [
    "#多变量数据分析"
   ]
  },
  {
   "cell_type": "code",
   "execution_count": 894,
   "metadata": {},
   "outputs": [
    {
     "data": {
      "text/html": [
       "<div>\n",
       "<style scoped>\n",
       "    .dataframe tbody tr th:only-of-type {\n",
       "        vertical-align: middle;\n",
       "    }\n",
       "\n",
       "    .dataframe tbody tr th {\n",
       "        vertical-align: top;\n",
       "    }\n",
       "\n",
       "    .dataframe thead th {\n",
       "        text-align: right;\n",
       "    }\n",
       "</style>\n",
       "<table border=\"1\" class=\"dataframe\">\n",
       "  <thead>\n",
       "    <tr style=\"text-align: right;\">\n",
       "      <th></th>\n",
       "      <th>信息鉴别能力</th>\n",
       "      <th>2.0</th>\n",
       "      <th>3.0</th>\n",
       "      <th>4.0</th>\n",
       "      <th>5.0</th>\n",
       "      <th>6.0</th>\n",
       "      <th>7.0</th>\n",
       "      <th>8.0</th>\n",
       "      <th>9.0</th>\n",
       "      <th>All</th>\n",
       "    </tr>\n",
       "    <tr>\n",
       "      <th>@4、您的受教育程度是：</th>\n",
       "      <th>@2、您的年龄：</th>\n",
       "      <th></th>\n",
       "      <th></th>\n",
       "      <th></th>\n",
       "      <th></th>\n",
       "      <th></th>\n",
       "      <th></th>\n",
       "      <th></th>\n",
       "      <th></th>\n",
       "      <th></th>\n",
       "    </tr>\n",
       "  </thead>\n",
       "  <tbody>\n",
       "    <tr>\n",
       "      <th rowspan=\"5\" valign=\"top\">未上过学</th>\n",
       "      <th>19.0</th>\n",
       "      <td>0.000000</td>\n",
       "      <td>0.000000</td>\n",
       "      <td>0.000000</td>\n",
       "      <td>0.000000</td>\n",
       "      <td>0.010753</td>\n",
       "      <td>0.000000</td>\n",
       "      <td>0.000000</td>\n",
       "      <td>0.000000</td>\n",
       "      <td>0.010753</td>\n",
       "    </tr>\n",
       "    <tr>\n",
       "      <th>29.0</th>\n",
       "      <td>0.000000</td>\n",
       "      <td>0.000000</td>\n",
       "      <td>0.000000</td>\n",
       "      <td>0.010753</td>\n",
       "      <td>0.000000</td>\n",
       "      <td>0.000000</td>\n",
       "      <td>0.000000</td>\n",
       "      <td>0.000000</td>\n",
       "      <td>0.010753</td>\n",
       "    </tr>\n",
       "    <tr>\n",
       "      <th>33.0</th>\n",
       "      <td>0.000000</td>\n",
       "      <td>0.000000</td>\n",
       "      <td>0.000000</td>\n",
       "      <td>0.000000</td>\n",
       "      <td>0.000000</td>\n",
       "      <td>0.000000</td>\n",
       "      <td>0.010753</td>\n",
       "      <td>0.000000</td>\n",
       "      <td>0.010753</td>\n",
       "    </tr>\n",
       "    <tr>\n",
       "      <th>36.0</th>\n",
       "      <td>0.000000</td>\n",
       "      <td>0.000000</td>\n",
       "      <td>0.000000</td>\n",
       "      <td>0.010753</td>\n",
       "      <td>0.000000</td>\n",
       "      <td>0.000000</td>\n",
       "      <td>0.000000</td>\n",
       "      <td>0.000000</td>\n",
       "      <td>0.010753</td>\n",
       "    </tr>\n",
       "    <tr>\n",
       "      <th>38.0</th>\n",
       "      <td>0.000000</td>\n",
       "      <td>0.000000</td>\n",
       "      <td>0.010753</td>\n",
       "      <td>0.000000</td>\n",
       "      <td>0.000000</td>\n",
       "      <td>0.000000</td>\n",
       "      <td>0.000000</td>\n",
       "      <td>0.000000</td>\n",
       "      <td>0.010753</td>\n",
       "    </tr>\n",
       "    <tr>\n",
       "      <th>...</th>\n",
       "      <th>...</th>\n",
       "      <td>...</td>\n",
       "      <td>...</td>\n",
       "      <td>...</td>\n",
       "      <td>...</td>\n",
       "      <td>...</td>\n",
       "      <td>...</td>\n",
       "      <td>...</td>\n",
       "      <td>...</td>\n",
       "      <td>...</td>\n",
       "    </tr>\n",
       "    <tr>\n",
       "      <th rowspan=\"2\" valign=\"top\">高中</th>\n",
       "      <th>19.0</th>\n",
       "      <td>0.000000</td>\n",
       "      <td>0.000000</td>\n",
       "      <td>0.000000</td>\n",
       "      <td>0.000000</td>\n",
       "      <td>0.000000</td>\n",
       "      <td>0.000000</td>\n",
       "      <td>0.010753</td>\n",
       "      <td>0.000000</td>\n",
       "      <td>0.010753</td>\n",
       "    </tr>\n",
       "    <tr>\n",
       "      <th>26.0</th>\n",
       "      <td>0.000000</td>\n",
       "      <td>0.000000</td>\n",
       "      <td>0.000000</td>\n",
       "      <td>0.000000</td>\n",
       "      <td>0.000000</td>\n",
       "      <td>0.000000</td>\n",
       "      <td>0.010753</td>\n",
       "      <td>0.000000</td>\n",
       "      <td>0.010753</td>\n",
       "    </tr>\n",
       "    <tr>\n",
       "      <th rowspan=\"2\" valign=\"top\">大学</th>\n",
       "      <th>19.0</th>\n",
       "      <td>0.000000</td>\n",
       "      <td>0.000000</td>\n",
       "      <td>0.000000</td>\n",
       "      <td>0.000000</td>\n",
       "      <td>0.000000</td>\n",
       "      <td>0.000000</td>\n",
       "      <td>0.010753</td>\n",
       "      <td>0.000000</td>\n",
       "      <td>0.010753</td>\n",
       "    </tr>\n",
       "    <tr>\n",
       "      <th>50.0</th>\n",
       "      <td>0.000000</td>\n",
       "      <td>0.000000</td>\n",
       "      <td>0.000000</td>\n",
       "      <td>0.000000</td>\n",
       "      <td>0.000000</td>\n",
       "      <td>0.000000</td>\n",
       "      <td>0.000000</td>\n",
       "      <td>0.010753</td>\n",
       "      <td>0.010753</td>\n",
       "    </tr>\n",
       "    <tr>\n",
       "      <th>All</th>\n",
       "      <th></th>\n",
       "      <td>0.032258</td>\n",
       "      <td>0.010753</td>\n",
       "      <td>0.311828</td>\n",
       "      <td>0.247312</td>\n",
       "      <td>0.182796</td>\n",
       "      <td>0.086022</td>\n",
       "      <td>0.118280</td>\n",
       "      <td>0.010753</td>\n",
       "      <td>1.000000</td>\n",
       "    </tr>\n",
       "  </tbody>\n",
       "</table>\n",
       "<p>64 rows × 9 columns</p>\n",
       "</div>"
      ],
      "text/plain": [
       "信息鉴别能力                      2.0       3.0       4.0       5.0       6.0  \\\n",
       "@4、您的受教育程度是： @2、您的年龄：                                                     \n",
       "未上过学         19.0      0.000000  0.000000  0.000000  0.000000  0.010753   \n",
       "             29.0      0.000000  0.000000  0.000000  0.010753  0.000000   \n",
       "             33.0      0.000000  0.000000  0.000000  0.000000  0.000000   \n",
       "             36.0      0.000000  0.000000  0.000000  0.010753  0.000000   \n",
       "             38.0      0.000000  0.000000  0.010753  0.000000  0.000000   \n",
       "...                         ...       ...       ...       ...       ...   \n",
       "高中           19.0      0.000000  0.000000  0.000000  0.000000  0.000000   \n",
       "             26.0      0.000000  0.000000  0.000000  0.000000  0.000000   \n",
       "大学           19.0      0.000000  0.000000  0.000000  0.000000  0.000000   \n",
       "             50.0      0.000000  0.000000  0.000000  0.000000  0.000000   \n",
       "All                    0.032258  0.010753  0.311828  0.247312  0.182796   \n",
       "\n",
       "信息鉴别能力                      7.0       8.0       9.0       All  \n",
       "@4、您的受教育程度是： @2、您的年龄：                                          \n",
       "未上过学         19.0      0.000000  0.000000  0.000000  0.010753  \n",
       "             29.0      0.000000  0.000000  0.000000  0.010753  \n",
       "             33.0      0.000000  0.010753  0.000000  0.010753  \n",
       "             36.0      0.000000  0.000000  0.000000  0.010753  \n",
       "             38.0      0.000000  0.000000  0.000000  0.010753  \n",
       "...                         ...       ...       ...       ...  \n",
       "高中           19.0      0.000000  0.010753  0.000000  0.010753  \n",
       "             26.0      0.000000  0.010753  0.000000  0.010753  \n",
       "大学           19.0      0.000000  0.010753  0.000000  0.010753  \n",
       "             50.0      0.000000  0.000000  0.010753  0.010753  \n",
       "All                    0.086022  0.118280  0.010753  1.000000  \n",
       "\n",
       "[64 rows x 9 columns]"
      ]
     },
     "execution_count": 894,
     "metadata": {},
     "output_type": "execute_result"
    }
   ],
   "source": [
    "# 创建民族、年级和政治面貌的交互表\n",
    "cross_tab = pd.crosstab(index=[数据表['@4、您的受教育程度是：'], 数据表['@2、您的年龄：']], \n",
    "                        columns=数据表['信息鉴别能力'], \n",
    "                        margins=True, normalize=True)  # All 行和列的总和\n",
    "\n",
    "cross_tab"
   ]
  },
  {
   "cell_type": "code",
   "execution_count": 895,
   "metadata": {},
   "outputs": [
    {
     "name": "stdout",
     "output_type": "stream",
     "text": [
      "tau_y系数: 0.0881 极弱相关或无相关\n",
      "信息鉴别能力             2.0       3.0       4.0       5.0       6.0       7.0  \\\n",
      "@4、您的受教育程度是：                                                               \n",
      "未上过学          0.010638  0.000000  0.138298  0.085106  0.074468  0.010638   \n",
      "小学            0.021277  0.000000  0.180851  0.127660  0.106383  0.053191   \n",
      "初中            0.000000  0.010638  0.000000  0.031915  0.000000  0.021277   \n",
      "高中            0.000000  0.000000  0.000000  0.000000  0.000000  0.000000   \n",
      "大学            0.000000  0.000000  0.000000  0.000000  0.000000  0.000000   \n",
      "All           0.031915  0.010638  0.319149  0.244681  0.180851  0.085106   \n",
      "\n",
      "信息鉴别能力             8.0       9.0       All  \n",
      "@4、您的受教育程度是：                                \n",
      "未上过学          0.010638  0.000000  0.329787  \n",
      "小学            0.053191  0.000000  0.542553  \n",
      "初中            0.010638  0.000000  0.074468  \n",
      "高中            0.031915  0.000000  0.031915  \n",
      "大学            0.010638  0.010638  0.021277  \n",
      "All           0.117021  0.010638  1.000000  \n",
      "卡方值： 98.00, p值： 0.0000,自由度:28。\n",
      "拒绝虚无假设\n"
     ]
    }
   ],
   "source": [
    "mytools.两个无序类别变量的统计分析(数据表, '@4、您的受教育程度是：','信息鉴别能力')"
   ]
  }
 ],
 "metadata": {
  "kernelspec": {
   "display_name": "Python 3",
   "language": "python",
   "name": "python3"
  },
  "language_info": {
   "codemirror_mode": {
    "name": "ipython",
    "version": 3
   },
   "file_extension": ".py",
   "mimetype": "text/x-python",
   "name": "python",
   "nbconvert_exporter": "python",
   "pygments_lexer": "ipython3",
   "version": "3.8.10"
  }
 },
 "nbformat": 4,
 "nbformat_minor": 2
}
