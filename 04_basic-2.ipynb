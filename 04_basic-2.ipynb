{
 "cells": [
  {
   "cell_type": "code",
   "execution_count": 8,
   "metadata": {},
   "outputs": [
    {
     "name": "stdout",
     "output_type": "stream",
     "text": [
      "https://github.com/lisi\n"
     ]
    }
   ],
   "source": [
    "students = [  \n",
    "    {\"name\": \"张三\", \"id\": \"1001\", \"github\": \"https://github.com/zhangsan\"},  \n",
    "    {\"name\": \"李四\", \"id\": \"1002\", \"github\": \"https://github.com/lisi\"},  \n",
    "    {\"name\": \"王五\", \"id\": \"1003\", \"github\": \"https://github.com/wangwu\"},  \n",
    "    {\"name\": \"赵六\", \"id\": \"1004\", \"github\": \"https://github.com/zhaoliu\"},  \n",
    "    {\"name\": \"孙七\", \"id\": \"1005\", \"github\": \"https://github.com/sunqi\"},  \n",
    "    {\"name\": \"周八\", \"id\": \"1006\", \"github\": \"https://github.com/zhouba\"},  \n",
    "    {\"name\": \"吴九\", \"id\": \"1007\", \"github\": \"https://github.com/wujiu\"},  \n",
    "    {\"name\": \"郑十\", \"id\": \"1008\", \"github\": \"https://github.com/zhengshi\"},  \n",
    "    {\"name\": \"陈十一\", \"id\": \"1009\", \"github\": \"https://github.com/chen11\"},  \n",
    "    {\"name\": \"萧十二\", \"id\": \"1010\", \"github\": \"https://github.com/xiao12\"}  \n",
    "]  \n",
    "  \n",
    "# 指定要查找的学生姓名  \n",
    "target_name = \"李四\"  \n",
    "  \n",
    "# 遍历列表，查找指定学生的GitHub地址  \n",
    "for student in students:  \n",
    "    if student[\"name\"] == target_name:  \n",
    "        print(student[\"github\"])  \n",
    "        break  \n",
    "else:  \n",
    "    print(\"未找到指定学生\")"
   ]
  },
  {
   "cell_type": "code",
   "execution_count": 20,
   "metadata": {},
   "outputs": [],
   "source": [
    "def get_repo_by_name(name, data):  \n",
    "    for i in data:    \n",
    "        if i[\"name\"] == name:    \n",
    "            print(i[\"github\"])\n"
   ]
  },
  {
   "cell_type": "code",
   "execution_count": 21,
   "metadata": {},
   "outputs": [
    {
     "name": "stdout",
     "output_type": "stream",
     "text": [
      "https://github.com/lisi\n"
     ]
    }
   ],
   "source": [
    "get_repo_by_name('李四',students)"
   ]
  }
 ],
 "metadata": {
  "kernelspec": {
   "display_name": "Python 3",
   "language": "python",
   "name": "python3"
  },
  "language_info": {
   "codemirror_mode": {
    "name": "ipython",
    "version": 3
   },
   "file_extension": ".py",
   "mimetype": "text/x-python",
   "name": "python",
   "nbconvert_exporter": "python",
   "pygments_lexer": "ipython3",
   "version": "3.8.10"
  },
  "orig_nbformat": 4
 },
 "nbformat": 4,
 "nbformat_minor": 2
}
