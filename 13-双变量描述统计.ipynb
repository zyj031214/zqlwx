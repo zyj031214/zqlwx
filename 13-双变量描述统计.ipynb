{
 "cells": [
  {
   "cell_type": "code",
   "execution_count": 1,
   "metadata": {},
   "outputs": [],
   "source": [
    "import mytools"
   ]
  },
  {
   "cell_type": "code",
   "execution_count": 2,
   "metadata": {},
   "outputs": [
    {
     "data": {
      "text/plain": [
       "'弱相关'"
      ]
     },
     "execution_count": 2,
     "metadata": {},
     "output_type": "execute_result"
    }
   ],
   "source": [
    "mytools.相关系数判断(0.2056)"
   ]
  },
  {
   "cell_type": "code",
   "execution_count": 3,
   "metadata": {},
   "outputs": [],
   "source": [
    "数据表=mytools.读取SPSS数据文件(R'C:\\Users\\34426\\Desktop\\zqlwx\\identity.sav',True)"
   ]
  },
  {
   "cell_type": "code",
   "execution_count": 4,
   "metadata": {},
   "outputs": [
    {
     "name": "stdout",
     "output_type": "stream",
     "text": [
      "0.011483646254089224\n"
     ]
    }
   ],
   "source": [
    "tau_y=mytools.goodmanKruska_tau_y(数据表,'政治面貌','发展信心')\n",
    "print(tau_y)"
   ]
  },
  {
   "cell_type": "code",
   "execution_count": 5,
   "metadata": {},
   "outputs": [
    {
     "data": {
      "text/plain": [
       "'极弱相关或无相关'"
      ]
     },
     "execution_count": 5,
     "metadata": {},
     "output_type": "execute_result"
    }
   ],
   "source": [
    "mytools.相关系数判断(tau_y)"
   ]
  },
  {
   "cell_type": "code",
   "execution_count": 6,
   "metadata": {},
   "outputs": [],
   "source": [
    "from scipy import stats\n",
    "x=数据表['政治面貌']\n",
    "y=数据表['年级']"
   ]
  },
  {
   "cell_type": "code",
   "execution_count": 7,
   "metadata": {},
   "outputs": [
    {
     "name": "stdout",
     "output_type": "stream",
     "text": [
      "卡方值： 69.53, p值: 0.0000,自由度:12。\n"
     ]
    }
   ],
   "source": [
    "import pandas as pd\n",
    "chi2, p, dof, ex = stats.chi2_contingency(pd.crosstab(x, y))\n",
    "print(F\"卡方值：{chi2: .2f}, p值:{p: .4f},自由度:{dof}。\")"
   ]
  },
  {
   "cell_type": "code",
   "execution_count": 8,
   "metadata": {},
   "outputs": [
    {
     "name": "stdout",
     "output_type": "stream",
     "text": [
      "tau_y系数: 0.0263 极弱相关或无相关\n",
      "年级          预科        大一        大二        大三        大四       All\n",
      "政治面貌                                                            \n",
      "团员    0.015029  0.300578  0.240462  0.108671  0.069364  0.734104\n",
      "党员    0.000000  0.017341  0.038150  0.050867  0.024277  0.130636\n",
      "群众    0.001156  0.032370  0.034682  0.030058  0.012717  0.110983\n",
      "其他    0.000000  0.004624  0.008092  0.009249  0.002312  0.024277\n",
      "All   0.016185  0.354913  0.321387  0.198844  0.108671  1.000000\n",
      "卡方值： 69.53, p值： 0.0000,自由度:12。\n",
      "拒绝虚无假设\n"
     ]
    }
   ],
   "source": [
    "mytools.两个无序类别变量的统计分析(数据表,'政治面貌','年级')"
   ]
  },
  {
   "cell_type": "code",
   "execution_count": 9,
   "metadata": {},
   "outputs": [
    {
     "name": "stdout",
     "output_type": "stream",
     "text": [
      "tau_y系数: 0.0061 极弱相关或无相关\n",
      "会打多少分      零到二十     20~40     四十到六十     六十到八十     八十到一百       All\n",
      "政治面貌                                                             \n",
      "团员     0.021965  0.025434  0.115607  0.361850  0.209249  0.734104\n",
      "党员     0.005780  0.002312  0.033526  0.053179  0.035838  0.130636\n",
      "群众     0.003468  0.004624  0.028902  0.050867  0.023121  0.110983\n",
      "其他     0.000000  0.000000  0.008092  0.010405  0.005780  0.024277\n",
      "All    0.031214  0.032370  0.186127  0.476301  0.273988  1.000000\n",
      "卡方值： 17.77, p值： 0.1230,自由度:12。\n",
      "接受虚无假设\n"
     ]
    }
   ],
   "source": [
    "mytools.两个无序类别变量的统计分析(数据表,'政治面貌','会打多少分')"
   ]
  },
  {
   "cell_type": "code",
   "execution_count": 10,
   "metadata": {},
   "outputs": [
    {
     "data": {
      "text/plain": [
       "SomersDResult(statistic=0.07397954142762105, pvalue=0.011417259021690003, table=array([[ 37,   0,   0,   2,   1,   0],\n",
       "       [  0,   0,   0,   5,   7,   2],\n",
       "       [  0,   6,   9,  39, 160,  93],\n",
       "       [  0,  12,  14,  65, 114,  73],\n",
       "       [  0,   7,   3,  35,  88,  39],\n",
       "       [  0,   2,   2,  17,  43,  30]]))"
      ]
     },
     "execution_count": 10,
     "metadata": {},
     "output_type": "execute_result"
    }
   ],
   "source": [
    "from scipy.stats import somersd\n",
    "\"\"\"x,y 应该为定序变量，次序是关键！\"\"\"\n",
    "x = 数据表['年级'].cat.codes\n",
    "y = 数据表['会打多少分'].cat.codes\n",
    "result = somersd(x,y)\n",
    "result.statistic\n",
    "somersd(x,y)"
   ]
  },
  {
   "cell_type": "code",
   "execution_count": 11,
   "metadata": {},
   "outputs": [
    {
     "name": "stdout",
     "output_type": "stream",
     "text": [
      "Somers dy系数: 0.0740 极弱相关或无相关\n",
      "----  --  --  --  ---  --\n",
      "预科   0   0   5    7   2\n",
      "大一   6   9  39  160  93\n",
      "大二  12  14  65  114  73\n",
      "大三   7   3  35   88  39\n",
      "大四   2   2  17   43  30\n",
      "----  --  --  --  ---  --\n",
      "p值： 0.0114\n",
      "拒绝虚无假设\n"
     ]
    }
   ],
   "source": [
    "mytools.两个有序类别变量的统计分析(数据表,'年级','会打多少分')"
   ]
  },
  {
   "cell_type": "code",
   "execution_count": 12,
   "metadata": {},
   "outputs": [
    {
     "name": "stdout",
     "output_type": "stream",
     "text": [
      "education_level  college  graduate  high school  All\n",
      "gender                                              \n",
      "female                 1         3            0    4\n",
      "male                   2         0            2    4\n",
      "All                    3         3            2    8\n"
     ]
    },
    {
     "data": {
      "image/png": "[encoded data removed]",
      "text/plain": [
       "<Figure size 640x480 with 2 Axes>"
      ]
     },
     "metadata": {},
     "output_type": "display_data"
    }
   ],
   "source": [
    "import pandas as pd\n",
    "import seaborn as sns\n",
    "\n",
    "# 创建一个示例数据集\n",
    "df = pd.DataFrame({\n",
    "    'gender': ['male', 'male', 'female', 'female', 'male', 'female', 'male', 'female'],\n",
    "    'education_level': ['high school', 'college', 'college', 'graduate', 'high school', 'graduate', 'college', 'graduate'],\n",
    "    'score': [75, 82, 88, 95, 69, 92, 78, 85]\n",
    "})\n",
    "\n",
    "# 创建包含比例和合计的交叉表\n",
    "ct_margins = pd.crosstab(df['gender'], df['education_level'], margins=True)\n",
    "sns.heatmap(ct_margins, cmap='coolwarm', annot=True)\n",
    "print(ct_margins)"
   ]
  }
 ],
 "metadata": {
  "kernelspec": {
   "display_name": "Python 3",
   "language": "python",
   "name": "python3"
  },
  "language_info": {
   "codemirror_mode": {
    "name": "ipython",
    "version": 3
   },
   "file_extension": ".py",
   "mimetype": "text/x-python",
   "name": "python",
   "nbconvert_exporter": "python",
   "pygments_lexer": "ipython3",
   "version": "3.8.10"
  }
 },
 "nbformat": 4,
 "nbformat_minor": 2
}
