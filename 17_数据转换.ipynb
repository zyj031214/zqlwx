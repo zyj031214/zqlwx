{
 "cells": [
  {
   "cell_type": "code",
   "execution_count": 74,
   "metadata": {},
   "outputs": [],
   "source": [
    "import pandas as pd\n",
    "df_movie = pd.read_csv(R'C:\\Users\\34426\\Desktop\\zqlwx\\movie_data.csv', encoding='GBK')"
   ]
  },
  {
   "cell_type": "code",
   "execution_count": 75,
   "metadata": {},
   "outputs": [
    {
     "name": "stdout",
     "output_type": "stream",
     "text": [
      "从字符串中提取的数字：4123444\n",
      "原始字符串：Hey readers, we all are here be 4 the time! 444\n",
      "提取的数字列表：['4', '444']\n"
     ]
    }
   ],
   "source": [
    "# 使用isdigit()方法提取数字\n",
    "input_str = \"Python4123Journal444dev\"\n",
    "num = \"\"\n",
    "for c in input_str:\n",
    "    if c.isdigit():\n",
    "        num = num + c\n",
    "print(\"从字符串中提取的数字：\" + num)\n",
    "\n",
    "# 使用正则表达式提取数字\n",
    "import re\n",
    "input_str = \"Hey readers, we all are here be 4 the time! 444\"\n",
    "print(\"原始字符串：\" + input_str)\n",
    "num = re.findall(r'\\d+', input_str)\n",
    "print(\"提取的数字列表：\" + str(num))"
   ]
  },
  {
   "cell_type": "code",
   "execution_count": 76,
   "metadata": {},
   "outputs": [],
   "source": [
    "df_movie.dropna(how='any', inplace=True)"
   ]
  },
  {
   "cell_type": "code",
   "execution_count": 77,
   "metadata": {},
   "outputs": [],
   "source": [
    "def 提取数字(字符串:str):\n",
    "    num = re.findall(r'\\d+', str(字符串))\n",
    "    # 还需优化判断条件\n",
    "    if num is not None:\n",
    "        return num[0]\n",
    "    else:\n",
    "        return 0"
   ]
  },
  {
   "cell_type": "code",
   "execution_count": 78,
   "metadata": {},
   "outputs": [
    {
     "name": "stdout",
     "output_type": "stream",
     "text": [
      "123\n"
     ]
    }
   ],
   "source": [
    "s = '123dddd'\n",
    "result = 提取数字(s)\n",
    "print(result)"
   ]
  },
  {
   "cell_type": "code",
   "execution_count": 79,
   "metadata": {},
   "outputs": [],
   "source": [
    "df_movie['时长'] = df_movie['runtime'].apply(提取数字)"
   ]
  },
  {
   "cell_type": "code",
   "execution_count": 80,
   "metadata": {},
   "outputs": [],
   "source": [
    "def 提取日期(字符串:str):\n",
    "    num = re.findall(r'\\d{4}-\\d\\d-\\d\\d', str(字符串))\n",
    "    # 还需优化判断条件\n",
    "    if num is not None:\n",
    "        return num[0]\n",
    "    else:\n",
    "        return 0"
   ]
  },
  {
   "cell_type": "code",
   "execution_count": 81,
   "metadata": {},
   "outputs": [
    {
     "name": "stdout",
     "output_type": "stream",
     "text": [
      "2017-05-05\n"
     ]
    }
   ],
   "source": [
    "s = '2017-05-05(中国大陆)'\n",
    "print(提取日期(s))"
   ]
  },
  {
   "cell_type": "code",
   "execution_count": 82,
   "metadata": {},
   "outputs": [],
   "source": [
    "df_movie['星级'] = pd.cut(df_movie['average'],\n",
    "           bins=[0, 2, 4, 6, 8, 10],\n",
    "           labels=['一星', '二星', '三星', '四星', '五星'])"
   ]
  },
  {
   "cell_type": "code",
   "execution_count": 83,
   "metadata": {},
   "outputs": [
    {
     "name": "stdout",
     "output_type": "stream",
     "text": [
      "美国\n"
     ]
    }
   ],
   "source": [
    "import re\n",
    "\n",
    "# 定义输入字符串\n",
    "input_str = \"美国 / 中国大陆\"\n",
    "\n",
    "# 使用正则表达式提取\"/\"前的内容\n",
    "result = re.match(r\"(.+?)\\s*/\", input_str).group(1)\n",
    "\n",
    "# 输出结果\n",
    "print(result)  # 这将打印出“美国”"
   ]
  },
  {
   "cell_type": "code",
   "execution_count": 84,
   "metadata": {},
   "outputs": [],
   "source": [
    "import mytools"
   ]
  },
  {
   "cell_type": "code",
   "execution_count": 85,
   "metadata": {},
   "outputs": [],
   "source": [
    "国家认同数据表 = mytools.读取SPSS数据文件(R'C:\\Users\\34426\\Desktop\\zqlwx\\identity.sav')"
   ]
  },
  {
   "cell_type": "code",
   "execution_count": 86,
   "metadata": {},
   "outputs": [],
   "source": [
    "国家认同数据表.dropna(how='any', inplace=True)"
   ]
  },
  {
   "cell_type": "code",
   "execution_count": 87,
   "metadata": {},
   "outputs": [
    {
     "data": {
      "text/plain": [
       "Index(['问卷编号', '调查员', '民族', '政治面貌', '年级', '典型中国人', '中国人特点', 'v1', 'v2', 'v3',\n",
       "       'v4', '你是否了解重活民族的传统节日', 'v5', '您觉得中国怎么样', '您认为中国有多少值得自豪的地方',\n",
       "       '您认为世界有多少比例的人尊重中国', '对您而言作为一名中国人有多重要', '会以中国人自豪吗', '会隐瞒身份吗', '会打多少分',\n",
       "       '国歌升起', '世博会', '中国传统文化', '发展信心', '你会为中国运动员呐喊助威', '遇到灾难时中国人应该伸出援手',\n",
       "       '你愿意加入其他国籍吗', '中国人要为祖国统一奋斗吗'],\n",
       "      dtype='object')"
      ]
     },
     "execution_count": 87,
     "metadata": {},
     "output_type": "execute_result"
    }
   ],
   "source": [
    "国家认同数据表.columns"
   ]
  },
  {
   "cell_type": "code",
   "execution_count": 88,
   "metadata": {},
   "outputs": [],
   "source": [
    "国家认同数据表.rename(columns={\n",
    "    '与世界其他国家的人相比中国人有自己的特点吗': '中国人有自己的特点',\n",
    "}, inplace=True)"
   ]
  },
  {
   "cell_type": "code",
   "execution_count": 89,
   "metadata": {},
   "outputs": [
    {
     "data": {
      "text/plain": [
       "Index(['问卷编号', '调查员', '民族', '政治面貌', '年级', '典型中国人', '中国人特点', 'v1', 'v2', 'v3',\n",
       "       'v4', '你是否了解重活民族的传统节日', 'v5', '您觉得中国怎么样', '您认为中国有多少值得自豪的地方',\n",
       "       '您认为世界有多少比例的人尊重中国', '对您而言作为一名中国人有多重要', '会以中国人自豪吗', '会隐瞒身份吗', '会打多少分',\n",
       "       '国歌升起', '世博会', '中国传统文化', '发展信心', '你会为中国运动员呐喊助威', '遇到灾难时中国人应该伸出援手',\n",
       "       '你愿意加入其他国籍吗', '中国人要为祖国统一奋斗吗'],\n",
       "      dtype='object')"
      ]
     },
     "execution_count": 89,
     "metadata": {},
     "output_type": "execute_result"
    }
   ],
   "source": [
    "国家认同数据表.columns"
   ]
  },
  {
   "cell_type": "code",
   "execution_count": 90,
   "metadata": {},
   "outputs": [
    {
     "data": {
      "text/plain": [
       "0      2\n",
       "1      3\n",
       "2      4\n",
       "3      4\n",
       "4      3\n",
       "      ..\n",
       "860    3\n",
       "861    3\n",
       "862    3\n",
       "863    4\n",
       "864    3\n",
       "Length: 858, dtype: int8"
      ]
     },
     "execution_count": 90,
     "metadata": {},
     "output_type": "execute_result"
    }
   ],
   "source": [
    "国家认同数据表['认知维度'] = 国家认同数据表['典型中国人'].cat.codes\n",
    "+ 国家认同数据表['中国人特点'].cat.codes"
   ]
  },
  {
   "cell_type": "code",
   "execution_count": 91,
   "metadata": {},
   "outputs": [
    {
     "data": {
      "text/plain": [
       "0      2\n",
       "1      3\n",
       "2      4\n",
       "3      4\n",
       "4      3\n",
       "      ..\n",
       "860    3\n",
       "861    3\n",
       "862    3\n",
       "863    4\n",
       "864    3\n",
       "Length: 858, dtype: int8"
      ]
     },
     "execution_count": 91,
     "metadata": {},
     "output_type": "execute_result"
    }
   ],
   "source": [
    "国家认同数据表.中国人特点.cat.codes"
   ]
  }
 ],
 "metadata": {
  "kernelspec": {
   "display_name": "Python 3",
   "language": "python",
   "name": "python3"
  },
  "language_info": {
   "codemirror_mode": {
    "name": "ipython",
    "version": 3
   },
   "file_extension": ".py",
   "mimetype": "text/x-python",
   "name": "python",
   "nbconvert_exporter": "python",
   "pygments_lexer": "ipython3",
   "version": "3.8.10"
  }
 },
 "nbformat": 4,
 "nbformat_minor": 2
}
