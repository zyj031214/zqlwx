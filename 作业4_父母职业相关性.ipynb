{
 "cells": [
  {
   "cell_type": "code",
   "execution_count": 40,
   "metadata": {},
   "outputs": [],
   "source": [
    "# 导入各种需要的包\n",
    "\n",
    "import pandas as pd\n",
    "import mytools"
   ]
  },
  {
   "cell_type": "code",
   "execution_count": 41,
   "metadata": {},
   "outputs": [],
   "source": [
    "# 打开数据文件\n",
    "父母职业表 = pd.read_csv(R'C:\\Users\\34426\\Desktop\\zqlwx\\类别变量练习数据-test.csv',encoding=\"GBK\")"
   ]
  },
  {
   "cell_type": "code",
   "execution_count": 42,
   "metadata": {},
   "outputs": [
    {
     "data": {
      "application/vnd.plotly.v1+json": {
       "config": {
        "plotlyServerURL": "https://plot.ly"
       },
       "data": [
        {
         "domain": {
          "x": [
           0,
           1
          ],
          "y": [
           0,
           1
          ]
         },
         "hovertemplate": "父亲工作=%{label}<extra></extra>",
         "labels": [
          "中铁六局太原铁路建设公司",
          "凯信会议服务有限公司",
          "银光聚银化工有限公司",
          "元拓科技咨询有限公司",
          "市广播电视大学",
          "市经济合作局\n",
          "区建豪汽修中心",
          "区建豪汽修中心",
          "陕西省水利水电第三工程局",
          "渭源陇原恒新畜牧科技有限公司",
          "市民政局",
          "北京路九洋菜市场刘伟鲜面店",
          "市第一人民医院",
          "市农业农村局",
          "老姐饺子馆",
          "大市场清华电动工具",
          "市统计局",
          "盛泰房地产公司",
          "盛泰房地产公司",
          "县瑞金路锦辉消防工程有限公司",
          "市农业综合行政执法队",
          "大禹工程咨询有限公司",
          "市中级人民法院",
          "家庭父亲",
          "市旅游局",
          "陇风巢浴",
          "XXX镇政府",
          "市团委",
          "万盛体能拓展中心鑫多米便利店",
          "市公安局",
          "家庭父母",
          "公安局",
          "西区管委会",
          "市住建局",
          "XXX建设局",
          "银中源工贸有限公司",
          "广东省中海油",
          "娟红杂粮食府",
          "市政管理处",
          "万民工程建设有限公司",
          "市公安局",
          "省监狱局",
          "家庭主妇",
          "江苏路之久工程建设有限公司",
          "市财政局",
          "市财政局",
          "瑞禾农资",
          "市纪委",
          "市委办",
          "第十一中学北侧校园书店",
          "长通公司",
          "市住建局"
         ],
         "legendgroup": "",
         "name": "",
         "showlegend": true,
         "type": "pie"
        }
       ],
       "layout": {
        "legend": {
         "tracegroupgap": 0
        },
        "margin": {
         "t": 60
        },
        "template": {
         "data": {
          "bar": [
           {
            "error_x": {
             "color": "#2a3f5f"
            },
            "error_y": {
             "color": "#2a3f5f"
            },
            "marker": {
             "line": {
              "color": "#E5ECF6",
              "width": 0.5
             },
             "pattern": {
              "fillmode": "overlay",
              "size": 10,
              "solidity": 0.2
             }
            },
            "type": "bar"
           }
          ],
          "barpolar": [
           {
            "marker": {
             "line": {
              "color": "#E5ECF6",
              "width": 0.5
             },
             "pattern": {
              "fillmode": "overlay",
              "size": 10,
              "solidity": 0.2
             }
            },
            "type": "barpolar"
           }
          ],
          "carpet": [
           {
            "aaxis": {
             "endlinecolor": "#2a3f5f",
             "gridcolor": "white",
             "linecolor": "white",
             "minorgridcolor": "white",
             "startlinecolor": "#2a3f5f"
            },
            "baxis": {
             "endlinecolor": "#2a3f5f",
             "gridcolor": "white",
             "linecolor": "white",
             "minorgridcolor": "white",
             "startlinecolor": "#2a3f5f"
            },
            "type": "carpet"
           }
          ],
          "choropleth": [
           {
            "colorbar": {
             "outlinewidth": 0,
             "ticks": ""
            },
            "type": "choropleth"
           }
          ],
          "contour": [
           {
            "colorbar": {
             "outlinewidth": 0,
             "ticks": ""
            },
            "colorscale": [
             [
              0,
              "#0d0887"
             ],
             [
              0.1111111111111111,
              "#46039f"
             ],
             [
              0.2222222222222222,
              "#7201a8"
             ],
             [
              0.3333333333333333,
              "#9c179e"
             ],
             [
              0.4444444444444444,
              "#bd3786"
             ],
             [
              0.5555555555555556,
              "#d8576b"
             ],
             [
              0.6666666666666666,
              "#ed7953"
             ],
             [
              0.7777777777777778,
              "#fb9f3a"
             ],
             [
              0.8888888888888888,
              "#fdca26"
             ],
             [
              1,
              "#f0f921"
             ]
            ],
            "type": "contour"
           }
          ],
          "contourcarpet": [
           {
            "colorbar": {
             "outlinewidth": 0,
             "ticks": ""
            },
            "type": "contourcarpet"
           }
          ],
          "heatmap": [
           {
            "colorbar": {
             "outlinewidth": 0,
             "ticks": ""
            },
            "colorscale": [
             [
              0,
              "#0d0887"
             ],
             [
              0.1111111111111111,
              "#46039f"
             ],
             [
              0.2222222222222222,
              "#7201a8"
             ],
             [
              0.3333333333333333,
              "#9c179e"
             ],
             [
              0.4444444444444444,
              "#bd3786"
             ],
             [
              0.5555555555555556,
              "#d8576b"
             ],
             [
              0.6666666666666666,
              "#ed7953"
             ],
             [
              0.7777777777777778,
              "#fb9f3a"
             ],
             [
              0.8888888888888888,
              "#fdca26"
             ],
             [
              1,
              "#f0f921"
             ]
            ],
            "type": "heatmap"
           }
          ],
          "heatmapgl": [
           {
            "colorbar": {
             "outlinewidth": 0,
             "ticks": ""
            },
            "colorscale": [
             [
              0,
              "#0d0887"
             ],
             [
              0.1111111111111111,
              "#46039f"
             ],
             [
              0.2222222222222222,
              "#7201a8"
             ],
             [
              0.3333333333333333,
              "#9c179e"
             ],
             [
              0.4444444444444444,
              "#bd3786"
             ],
             [
              0.5555555555555556,
              "#d8576b"
             ],
             [
              0.6666666666666666,
              "#ed7953"
             ],
             [
              0.7777777777777778,
              "#fb9f3a"
             ],
             [
              0.8888888888888888,
              "#fdca26"
             ],
             [
              1,
              "#f0f921"
             ]
            ],
            "type": "heatmapgl"
           }
          ],
          "histogram": [
           {
            "marker": {
             "pattern": {
              "fillmode": "overlay",
              "size": 10,
              "solidity": 0.2
             }
            },
            "type": "histogram"
           }
          ],
          "histogram2d": [
           {
            "colorbar": {
             "outlinewidth": 0,
             "ticks": ""
            },
            "colorscale": [
             [
              0,
              "#0d0887"
             ],
             [
              0.1111111111111111,
              "#46039f"
             ],
             [
              0.2222222222222222,
              "#7201a8"
             ],
             [
              0.3333333333333333,
              "#9c179e"
             ],
             [
              0.4444444444444444,
              "#bd3786"
             ],
             [
              0.5555555555555556,
              "#d8576b"
             ],
             [
              0.6666666666666666,
              "#ed7953"
             ],
             [
              0.7777777777777778,
              "#fb9f3a"
             ],
             [
              0.8888888888888888,
              "#fdca26"
             ],
             [
              1,
              "#f0f921"
             ]
            ],
            "type": "histogram2d"
           }
          ],
          "histogram2dcontour": [
           {
            "colorbar": {
             "outlinewidth": 0,
             "ticks": ""
            },
            "colorscale": [
             [
              0,
              "#0d0887"
             ],
             [
              0.1111111111111111,
              "#46039f"
             ],
             [
              0.2222222222222222,
              "#7201a8"
             ],
             [
              0.3333333333333333,
              "#9c179e"
             ],
             [
              0.4444444444444444,
              "#bd3786"
             ],
             [
              0.5555555555555556,
              "#d8576b"
             ],
             [
              0.6666666666666666,
              "#ed7953"
             ],
             [
              0.7777777777777778,
              "#fb9f3a"
             ],
             [
              0.8888888888888888,
              "#fdca26"
             ],
             [
              1,
              "#f0f921"
             ]
            ],
            "type": "histogram2dcontour"
           }
          ],
          "mesh3d": [
           {
            "colorbar": {
             "outlinewidth": 0,
             "ticks": ""
            },
            "type": "mesh3d"
           }
          ],
          "parcoords": [
           {
            "line": {
             "colorbar": {
              "outlinewidth": 0,
              "ticks": ""
             }
            },
            "type": "parcoords"
           }
          ],
          "pie": [
           {
            "automargin": true,
            "type": "pie"
           }
          ],
          "scatter": [
           {
            "fillpattern": {
             "fillmode": "overlay",
             "size": 10,
             "solidity": 0.2
            },
            "type": "scatter"
           }
          ],
          "scatter3d": [
           {
            "line": {
             "colorbar": {
              "outlinewidth": 0,
              "ticks": ""
             }
            },
            "marker": {
             "colorbar": {
              "outlinewidth": 0,
              "ticks": ""
             }
            },
            "type": "scatter3d"
           }
          ],
          "scattercarpet": [
           {
            "marker": {
             "colorbar": {
              "outlinewidth": 0,
              "ticks": ""
             }
            },
            "type": "scattercarpet"
           }
          ],
          "scattergeo": [
           {
            "marker": {
             "colorbar": {
              "outlinewidth": 0,
              "ticks": ""
             }
            },
            "type": "scattergeo"
           }
          ],
          "scattergl": [
           {
            "marker": {
             "colorbar": {
              "outlinewidth": 0,
              "ticks": ""
             }
            },
            "type": "scattergl"
           }
          ],
          "scattermapbox": [
           {
            "marker": {
             "colorbar": {
              "outlinewidth": 0,
              "ticks": ""
             }
            },
            "type": "scattermapbox"
           }
          ],
          "scatterpolar": [
           {
            "marker": {
             "colorbar": {
              "outlinewidth": 0,
              "ticks": ""
             }
            },
            "type": "scatterpolar"
           }
          ],
          "scatterpolargl": [
           {
            "marker": {
             "colorbar": {
              "outlinewidth": 0,
              "ticks": ""
             }
            },
            "type": "scatterpolargl"
           }
          ],
          "scatterternary": [
           {
            "marker": {
             "colorbar": {
              "outlinewidth": 0,
              "ticks": ""
             }
            },
            "type": "scatterternary"
           }
          ],
          "surface": [
           {
            "colorbar": {
             "outlinewidth": 0,
             "ticks": ""
            },
            "colorscale": [
             [
              0,
              "#0d0887"
             ],
             [
              0.1111111111111111,
              "#46039f"
             ],
             [
              0.2222222222222222,
              "#7201a8"
             ],
             [
              0.3333333333333333,
              "#9c179e"
             ],
             [
              0.4444444444444444,
              "#bd3786"
             ],
             [
              0.5555555555555556,
              "#d8576b"
             ],
             [
              0.6666666666666666,
              "#ed7953"
             ],
             [
              0.7777777777777778,
              "#fb9f3a"
             ],
             [
              0.8888888888888888,
              "#fdca26"
             ],
             [
              1,
              "#f0f921"
             ]
            ],
            "type": "surface"
           }
          ],
          "table": [
           {
            "cells": {
             "fill": {
              "color": "#EBF0F8"
             },
             "line": {
              "color": "white"
             }
            },
            "header": {
             "fill": {
              "color": "#C8D4E3"
             },
             "line": {
              "color": "white"
             }
            },
            "type": "table"
           }
          ]
         },
         "layout": {
          "annotationdefaults": {
           "arrowcolor": "#2a3f5f",
           "arrowhead": 0,
           "arrowwidth": 1
          },
          "autotypenumbers": "strict",
          "coloraxis": {
           "colorbar": {
            "outlinewidth": 0,
            "ticks": ""
           }
          },
          "colorscale": {
           "diverging": [
            [
             0,
             "#8e0152"
            ],
            [
             0.1,
             "#c51b7d"
            ],
            [
             0.2,
             "#de77ae"
            ],
            [
             0.3,
             "#f1b6da"
            ],
            [
             0.4,
             "#fde0ef"
            ],
            [
             0.5,
             "#f7f7f7"
            ],
            [
             0.6,
             "#e6f5d0"
            ],
            [
             0.7,
             "#b8e186"
            ],
            [
             0.8,
             "#7fbc41"
            ],
            [
             0.9,
             "#4d9221"
            ],
            [
             1,
             "#276419"
            ]
           ],
           "sequential": [
            [
             0,
             "#0d0887"
            ],
            [
             0.1111111111111111,
             "#46039f"
            ],
            [
             0.2222222222222222,
             "#7201a8"
            ],
            [
             0.3333333333333333,
             "#9c179e"
            ],
            [
             0.4444444444444444,
             "#bd3786"
            ],
            [
             0.5555555555555556,
             "#d8576b"
            ],
            [
             0.6666666666666666,
             "#ed7953"
            ],
            [
             0.7777777777777778,
             "#fb9f3a"
            ],
            [
             0.8888888888888888,
             "#fdca26"
            ],
            [
             1,
             "#f0f921"
            ]
           ],
           "sequentialminus": [
            [
             0,
             "#0d0887"
            ],
            [
             0.1111111111111111,
             "#46039f"
            ],
            [
             0.2222222222222222,
             "#7201a8"
            ],
            [
             0.3333333333333333,
             "#9c179e"
            ],
            [
             0.4444444444444444,
             "#bd3786"
            ],
            [
             0.5555555555555556,
             "#d8576b"
            ],
            [
             0.6666666666666666,
             "#ed7953"
            ],
            [
             0.7777777777777778,
             "#fb9f3a"
            ],
            [
             0.8888888888888888,
             "#fdca26"
            ],
            [
             1,
             "#f0f921"
            ]
           ]
          },
          "colorway": [
           "#636efa",
           "#EF553B",
           "#00cc96",
           "#ab63fa",
           "#FFA15A",
           "#19d3f3",
           "#FF6692",
           "#B6E880",
           "#FF97FF",
           "#FECB52"
          ],
          "font": {
           "color": "#2a3f5f"
          },
          "geo": {
           "bgcolor": "white",
           "lakecolor": "white",
           "landcolor": "#E5ECF6",
           "showlakes": true,
           "showland": true,
           "subunitcolor": "white"
          },
          "hoverlabel": {
           "align": "left"
          },
          "hovermode": "closest",
          "mapbox": {
           "style": "light"
          },
          "paper_bgcolor": "white",
          "plot_bgcolor": "#E5ECF6",
          "polar": {
           "angularaxis": {
            "gridcolor": "white",
            "linecolor": "white",
            "ticks": ""
           },
           "bgcolor": "#E5ECF6",
           "radialaxis": {
            "gridcolor": "white",
            "linecolor": "white",
            "ticks": ""
           }
          },
          "scene": {
           "xaxis": {
            "backgroundcolor": "#E5ECF6",
            "gridcolor": "white",
            "gridwidth": 2,
            "linecolor": "white",
            "showbackground": true,
            "ticks": "",
            "zerolinecolor": "white"
           },
           "yaxis": {
            "backgroundcolor": "#E5ECF6",
            "gridcolor": "white",
            "gridwidth": 2,
            "linecolor": "white",
            "showbackground": true,
            "ticks": "",
            "zerolinecolor": "white"
           },
           "zaxis": {
            "backgroundcolor": "#E5ECF6",
            "gridcolor": "white",
            "gridwidth": 2,
            "linecolor": "white",
            "showbackground": true,
            "ticks": "",
            "zerolinecolor": "white"
           }
          },
          "shapedefaults": {
           "line": {
            "color": "#2a3f5f"
           }
          },
          "ternary": {
           "aaxis": {
            "gridcolor": "white",
            "linecolor": "white",
            "ticks": ""
           },
           "baxis": {
            "gridcolor": "white",
            "linecolor": "white",
            "ticks": ""
           },
           "bgcolor": "#E5ECF6",
           "caxis": {
            "gridcolor": "white",
            "linecolor": "white",
            "ticks": ""
           }
          },
          "title": {
           "x": 0.05
          },
          "xaxis": {
           "automargin": true,
           "gridcolor": "white",
           "linecolor": "white",
           "ticks": "",
           "title": {
            "standoff": 15
           },
           "zerolinecolor": "white",
           "zerolinewidth": 2
          },
          "yaxis": {
           "automargin": true,
           "gridcolor": "white",
           "linecolor": "white",
           "ticks": "",
           "title": {
            "standoff": 15
           },
           "zerolinecolor": "white",
           "zerolinewidth": 2
          }
         }
        }
       }
      }
     },
     "metadata": {},
     "output_type": "display_data"
    },
    {
     "data": {
      "application/vnd.plotly.v1+json": {
       "config": {
        "plotlyServerURL": "https://plot.ly"
       },
       "data": [
        {
         "domain": {
          "x": [
           0,
           1
          ],
          "y": [
           0,
           1
          ]
         },
         "hovertemplate": "母亲工作=%{label}<extra></extra>",
         "labels": [
          "鑫智点交通设施有限公司",
          "长城国际旅行社有限责任公司",
          "九亩花田蛋糕店",
          "中国平安财险股份有限公司",
          "市实验中学",
          "县住房保障中心\n",
          "家庭主妇",
          "家庭主妇",
          "二十一冶",
          "XX路街道诚信社区",
          "矿冶职业技术学院",
          "北京路九洋菜市场刘伟鲜面店",
          "公路应急保障与路网监测中心",
          "市委编办",
          "家庭主妇",
          "家庭主妇",
          "个体",
          "家庭主妇",
          "家庭主妇",
          "家庭主妇",
          "宏信房地资产评估公司",
          "纺织路街道办",
          "农行XXX县支行",
          "白银区公园路街道办事处",
          "大自然旅行社",
          "凤巢浴足",
          "美年大健康有限公司",
          "区应急管理局",
          "北门流觞烟酒",
          "区人民法院",
          "家庭父母",
          "市给排水（集团）有限公司",
          "市人社局",
          "市科学技术局",
          "区住建局 ",
          "家庭主妇",
          "家庭主妇",
          "娟红杂粮食府",
          "区妇幼保健站",
          "新疆省和田市个体药店",
          "省第三人民医院",
          "区人民法院",
          "家庭主妇",
          "家庭主妇",
          "市教育局",
          "泰安学校教职工",
          "市委统战部",
          "市公安局交警支队",
          "市审计局",
          "顶新文化公司",
          "市育才学校",
          "区融媒体中心"
         ],
         "legendgroup": "",
         "name": "",
         "showlegend": true,
         "type": "pie"
        }
       ],
       "layout": {
        "legend": {
         "tracegroupgap": 0
        },
        "margin": {
         "t": 60
        },
        "template": {
         "data": {
          "bar": [
           {
            "error_x": {
             "color": "#2a3f5f"
            },
            "error_y": {
             "color": "#2a3f5f"
            },
            "marker": {
             "line": {
              "color": "#E5ECF6",
              "width": 0.5
             },
             "pattern": {
              "fillmode": "overlay",
              "size": 10,
              "solidity": 0.2
             }
            },
            "type": "bar"
           }
          ],
          "barpolar": [
           {
            "marker": {
             "line": {
              "color": "#E5ECF6",
              "width": 0.5
             },
             "pattern": {
              "fillmode": "overlay",
              "size": 10,
              "solidity": 0.2
             }
            },
            "type": "barpolar"
           }
          ],
          "carpet": [
           {
            "aaxis": {
             "endlinecolor": "#2a3f5f",
             "gridcolor": "white",
             "linecolor": "white",
             "minorgridcolor": "white",
             "startlinecolor": "#2a3f5f"
            },
            "baxis": {
             "endlinecolor": "#2a3f5f",
             "gridcolor": "white",
             "linecolor": "white",
             "minorgridcolor": "white",
             "startlinecolor": "#2a3f5f"
            },
            "type": "carpet"
           }
          ],
          "choropleth": [
           {
            "colorbar": {
             "outlinewidth": 0,
             "ticks": ""
            },
            "type": "choropleth"
           }
          ],
          "contour": [
           {
            "colorbar": {
             "outlinewidth": 0,
             "ticks": ""
            },
            "colorscale": [
             [
              0,
              "#0d0887"
             ],
             [
              0.1111111111111111,
              "#46039f"
             ],
             [
              0.2222222222222222,
              "#7201a8"
             ],
             [
              0.3333333333333333,
              "#9c179e"
             ],
             [
              0.4444444444444444,
              "#bd3786"
             ],
             [
              0.5555555555555556,
              "#d8576b"
             ],
             [
              0.6666666666666666,
              "#ed7953"
             ],
             [
              0.7777777777777778,
              "#fb9f3a"
             ],
             [
              0.8888888888888888,
              "#fdca26"
             ],
             [
              1,
              "#f0f921"
             ]
            ],
            "type": "contour"
           }
          ],
          "contourcarpet": [
           {
            "colorbar": {
             "outlinewidth": 0,
             "ticks": ""
            },
            "type": "contourcarpet"
           }
          ],
          "heatmap": [
           {
            "colorbar": {
             "outlinewidth": 0,
             "ticks": ""
            },
            "colorscale": [
             [
              0,
              "#0d0887"
             ],
             [
              0.1111111111111111,
              "#46039f"
             ],
             [
              0.2222222222222222,
              "#7201a8"
             ],
             [
              0.3333333333333333,
              "#9c179e"
             ],
             [
              0.4444444444444444,
              "#bd3786"
             ],
             [
              0.5555555555555556,
              "#d8576b"
             ],
             [
              0.6666666666666666,
              "#ed7953"
             ],
             [
              0.7777777777777778,
              "#fb9f3a"
             ],
             [
              0.8888888888888888,
              "#fdca26"
             ],
             [
              1,
              "#f0f921"
             ]
            ],
            "type": "heatmap"
           }
          ],
          "heatmapgl": [
           {
            "colorbar": {
             "outlinewidth": 0,
             "ticks": ""
            },
            "colorscale": [
             [
              0,
              "#0d0887"
             ],
             [
              0.1111111111111111,
              "#46039f"
             ],
             [
              0.2222222222222222,
              "#7201a8"
             ],
             [
              0.3333333333333333,
              "#9c179e"
             ],
             [
              0.4444444444444444,
              "#bd3786"
             ],
             [
              0.5555555555555556,
              "#d8576b"
             ],
             [
              0.6666666666666666,
              "#ed7953"
             ],
             [
              0.7777777777777778,
              "#fb9f3a"
             ],
             [
              0.8888888888888888,
              "#fdca26"
             ],
             [
              1,
              "#f0f921"
             ]
            ],
            "type": "heatmapgl"
           }
          ],
          "histogram": [
           {
            "marker": {
             "pattern": {
              "fillmode": "overlay",
              "size": 10,
              "solidity": 0.2
             }
            },
            "type": "histogram"
           }
          ],
          "histogram2d": [
           {
            "colorbar": {
             "outlinewidth": 0,
             "ticks": ""
            },
            "colorscale": [
             [
              0,
              "#0d0887"
             ],
             [
              0.1111111111111111,
              "#46039f"
             ],
             [
              0.2222222222222222,
              "#7201a8"
             ],
             [
              0.3333333333333333,
              "#9c179e"
             ],
             [
              0.4444444444444444,
              "#bd3786"
             ],
             [
              0.5555555555555556,
              "#d8576b"
             ],
             [
              0.6666666666666666,
              "#ed7953"
             ],
             [
              0.7777777777777778,
              "#fb9f3a"
             ],
             [
              0.8888888888888888,
              "#fdca26"
             ],
             [
              1,
              "#f0f921"
             ]
            ],
            "type": "histogram2d"
           }
          ],
          "histogram2dcontour": [
           {
            "colorbar": {
             "outlinewidth": 0,
             "ticks": ""
            },
            "colorscale": [
             [
              0,
              "#0d0887"
             ],
             [
              0.1111111111111111,
              "#46039f"
             ],
             [
              0.2222222222222222,
              "#7201a8"
             ],
             [
              0.3333333333333333,
              "#9c179e"
             ],
             [
              0.4444444444444444,
              "#bd3786"
             ],
             [
              0.5555555555555556,
              "#d8576b"
             ],
             [
              0.6666666666666666,
              "#ed7953"
             ],
             [
              0.7777777777777778,
              "#fb9f3a"
             ],
             [
              0.8888888888888888,
              "#fdca26"
             ],
             [
              1,
              "#f0f921"
             ]
            ],
            "type": "histogram2dcontour"
           }
          ],
          "mesh3d": [
           {
            "colorbar": {
             "outlinewidth": 0,
             "ticks": ""
            },
            "type": "mesh3d"
           }
          ],
          "parcoords": [
           {
            "line": {
             "colorbar": {
              "outlinewidth": 0,
              "ticks": ""
             }
            },
            "type": "parcoords"
           }
          ],
          "pie": [
           {
            "automargin": true,
            "type": "pie"
           }
          ],
          "scatter": [
           {
            "fillpattern": {
             "fillmode": "overlay",
             "size": 10,
             "solidity": 0.2
            },
            "type": "scatter"
           }
          ],
          "scatter3d": [
           {
            "line": {
             "colorbar": {
              "outlinewidth": 0,
              "ticks": ""
             }
            },
            "marker": {
             "colorbar": {
              "outlinewidth": 0,
              "ticks": ""
             }
            },
            "type": "scatter3d"
           }
          ],
          "scattercarpet": [
           {
            "marker": {
             "colorbar": {
              "outlinewidth": 0,
              "ticks": ""
             }
            },
            "type": "scattercarpet"
           }
          ],
          "scattergeo": [
           {
            "marker": {
             "colorbar": {
              "outlinewidth": 0,
              "ticks": ""
             }
            },
            "type": "scattergeo"
           }
          ],
          "scattergl": [
           {
            "marker": {
             "colorbar": {
              "outlinewidth": 0,
              "ticks": ""
             }
            },
            "type": "scattergl"
           }
          ],
          "scattermapbox": [
           {
            "marker": {
             "colorbar": {
              "outlinewidth": 0,
              "ticks": ""
             }
            },
            "type": "scattermapbox"
           }
          ],
          "scatterpolar": [
           {
            "marker": {
             "colorbar": {
              "outlinewidth": 0,
              "ticks": ""
             }
            },
            "type": "scatterpolar"
           }
          ],
          "scatterpolargl": [
           {
            "marker": {
             "colorbar": {
              "outlinewidth": 0,
              "ticks": ""
             }
            },
            "type": "scatterpolargl"
           }
          ],
          "scatterternary": [
           {
            "marker": {
             "colorbar": {
              "outlinewidth": 0,
              "ticks": ""
             }
            },
            "type": "scatterternary"
           }
          ],
          "surface": [
           {
            "colorbar": {
             "outlinewidth": 0,
             "ticks": ""
            },
            "colorscale": [
             [
              0,
              "#0d0887"
             ],
             [
              0.1111111111111111,
              "#46039f"
             ],
             [
              0.2222222222222222,
              "#7201a8"
             ],
             [
              0.3333333333333333,
              "#9c179e"
             ],
             [
              0.4444444444444444,
              "#bd3786"
             ],
             [
              0.5555555555555556,
              "#d8576b"
             ],
             [
              0.6666666666666666,
              "#ed7953"
             ],
             [
              0.7777777777777778,
              "#fb9f3a"
             ],
             [
              0.8888888888888888,
              "#fdca26"
             ],
             [
              1,
              "#f0f921"
             ]
            ],
            "type": "surface"
           }
          ],
          "table": [
           {
            "cells": {
             "fill": {
              "color": "#EBF0F8"
             },
             "line": {
              "color": "white"
             }
            },
            "header": {
             "fill": {
              "color": "#C8D4E3"
             },
             "line": {
              "color": "white"
             }
            },
            "type": "table"
           }
          ]
         },
         "layout": {
          "annotationdefaults": {
           "arrowcolor": "#2a3f5f",
           "arrowhead": 0,
           "arrowwidth": 1
          },
          "autotypenumbers": "strict",
          "coloraxis": {
           "colorbar": {
            "outlinewidth": 0,
            "ticks": ""
           }
          },
          "colorscale": {
           "diverging": [
            [
             0,
             "#8e0152"
            ],
            [
             0.1,
             "#c51b7d"
            ],
            [
             0.2,
             "#de77ae"
            ],
            [
             0.3,
             "#f1b6da"
            ],
            [
             0.4,
             "#fde0ef"
            ],
            [
             0.5,
             "#f7f7f7"
            ],
            [
             0.6,
             "#e6f5d0"
            ],
            [
             0.7,
             "#b8e186"
            ],
            [
             0.8,
             "#7fbc41"
            ],
            [
             0.9,
             "#4d9221"
            ],
            [
             1,
             "#276419"
            ]
           ],
           "sequential": [
            [
             0,
             "#0d0887"
            ],
            [
             0.1111111111111111,
             "#46039f"
            ],
            [
             0.2222222222222222,
             "#7201a8"
            ],
            [
             0.3333333333333333,
             "#9c179e"
            ],
            [
             0.4444444444444444,
             "#bd3786"
            ],
            [
             0.5555555555555556,
             "#d8576b"
            ],
            [
             0.6666666666666666,
             "#ed7953"
            ],
            [
             0.7777777777777778,
             "#fb9f3a"
            ],
            [
             0.8888888888888888,
             "#fdca26"
            ],
            [
             1,
             "#f0f921"
            ]
           ],
           "sequentialminus": [
            [
             0,
             "#0d0887"
            ],
            [
             0.1111111111111111,
             "#46039f"
            ],
            [
             0.2222222222222222,
             "#7201a8"
            ],
            [
             0.3333333333333333,
             "#9c179e"
            ],
            [
             0.4444444444444444,
             "#bd3786"
            ],
            [
             0.5555555555555556,
             "#d8576b"
            ],
            [
             0.6666666666666666,
             "#ed7953"
            ],
            [
             0.7777777777777778,
             "#fb9f3a"
            ],
            [
             0.8888888888888888,
             "#fdca26"
            ],
            [
             1,
             "#f0f921"
            ]
           ]
          },
          "colorway": [
           "#636efa",
           "#EF553B",
           "#00cc96",
           "#ab63fa",
           "#FFA15A",
           "#19d3f3",
           "#FF6692",
           "#B6E880",
           "#FF97FF",
           "#FECB52"
          ],
          "font": {
           "color": "#2a3f5f"
          },
          "geo": {
           "bgcolor": "white",
           "lakecolor": "white",
           "landcolor": "#E5ECF6",
           "showlakes": true,
           "showland": true,
           "subunitcolor": "white"
          },
          "hoverlabel": {
           "align": "left"
          },
          "hovermode": "closest",
          "mapbox": {
           "style": "light"
          },
          "paper_bgcolor": "white",
          "plot_bgcolor": "#E5ECF6",
          "polar": {
           "angularaxis": {
            "gridcolor": "white",
            "linecolor": "white",
            "ticks": ""
           },
           "bgcolor": "#E5ECF6",
           "radialaxis": {
            "gridcolor": "white",
            "linecolor": "white",
            "ticks": ""
           }
          },
          "scene": {
           "xaxis": {
            "backgroundcolor": "#E5ECF6",
            "gridcolor": "white",
            "gridwidth": 2,
            "linecolor": "white",
            "showbackground": true,
            "ticks": "",
            "zerolinecolor": "white"
           },
           "yaxis": {
            "backgroundcolor": "#E5ECF6",
            "gridcolor": "white",
            "gridwidth": 2,
            "linecolor": "white",
            "showbackground": true,
            "ticks": "",
            "zerolinecolor": "white"
           },
           "zaxis": {
            "backgroundcolor": "#E5ECF6",
            "gridcolor": "white",
            "gridwidth": 2,
            "linecolor": "white",
            "showbackground": true,
            "ticks": "",
            "zerolinecolor": "white"
           }
          },
          "shapedefaults": {
           "line": {
            "color": "#2a3f5f"
           }
          },
          "ternary": {
           "aaxis": {
            "gridcolor": "white",
            "linecolor": "white",
            "ticks": ""
           },
           "baxis": {
            "gridcolor": "white",
            "linecolor": "white",
            "ticks": ""
           },
           "bgcolor": "#E5ECF6",
           "caxis": {
            "gridcolor": "white",
            "linecolor": "white",
            "ticks": ""
           }
          },
          "title": {
           "x": 0.05
          },
          "xaxis": {
           "automargin": true,
           "gridcolor": "white",
           "linecolor": "white",
           "ticks": "",
           "title": {
            "standoff": 15
           },
           "zerolinecolor": "white",
           "zerolinewidth": 2
          },
          "yaxis": {
           "automargin": true,
           "gridcolor": "white",
           "linecolor": "white",
           "ticks": "",
           "title": {
            "standoff": 15
           },
           "zerolinecolor": "white",
           "zerolinewidth": 2
          }
         }
        }
       }
      }
     },
     "metadata": {},
     "output_type": "display_data"
    }
   ],
   "source": [
    "import matplotlib.pyplot as plt  \n",
    "import plotly.express as px   \n",
    "fig1 = px.pie(父母职业表, names=\"父亲工作\")  \n",
    "fig1.show()  \n",
    "  \n",
    "fig2 = px.pie(父母职业表, names=\"母亲工作\")  \n",
    "fig2.show()"
   ]
  },
  {
   "cell_type": "code",
   "execution_count": 43,
   "metadata": {},
   "outputs": [
    {
     "name": "stdout",
     "output_type": "stream",
     "text": [
      "母亲工作            XX路街道诚信社区        个体  中国平安财险股份有限公司   九亩花田蛋糕店      二十一冶  \\\n",
      "父亲工作                                                                    \n",
      "XXX建设局           0.000000  0.000000      0.000000  0.000000  0.000000   \n",
      "XXX镇政府           0.000000  0.000000      0.000000  0.000000  0.000000   \n",
      "万民工程建设有限公司       0.000000  0.000000      0.000000  0.000000  0.000000   \n",
      "万盛体能拓展中心鑫多米便利店   0.000000  0.000000      0.000000  0.000000  0.000000   \n",
      "中铁六局太原铁路建设公司     0.000000  0.000000      0.000000  0.000000  0.000000   \n",
      "元拓科技咨询有限公司       0.000000  0.000000      0.019231  0.000000  0.000000   \n",
      "公安局              0.000000  0.000000      0.000000  0.000000  0.000000   \n",
      "凯信会议服务有限公司       0.000000  0.000000      0.000000  0.000000  0.000000   \n",
      "北京路九洋菜市场刘伟鲜面店    0.000000  0.000000      0.000000  0.000000  0.000000   \n",
      "区建豪汽修中心          0.000000  0.000000      0.000000  0.000000  0.000000   \n",
      "县瑞金路锦辉消防工程有限公司   0.000000  0.000000      0.000000  0.000000  0.000000   \n",
      "大市场清华电动工具        0.000000  0.000000      0.000000  0.000000  0.000000   \n",
      "大禹工程咨询有限公司       0.000000  0.000000      0.000000  0.000000  0.000000   \n",
      "娟红杂粮食府           0.000000  0.000000      0.000000  0.000000  0.000000   \n",
      "家庭主妇             0.000000  0.000000      0.000000  0.000000  0.000000   \n",
      "家庭父亲             0.000000  0.000000      0.000000  0.000000  0.000000   \n",
      "家庭父母             0.000000  0.000000      0.000000  0.000000  0.000000   \n",
      "市中级人民法院          0.000000  0.000000      0.000000  0.000000  0.000000   \n",
      "市住建局             0.000000  0.000000      0.000000  0.000000  0.000000   \n",
      "市公安局             0.000000  0.000000      0.000000  0.000000  0.000000   \n",
      "市农业农村局           0.000000  0.000000      0.000000  0.000000  0.000000   \n",
      "市农业综合行政执法队       0.000000  0.000000      0.000000  0.000000  0.000000   \n",
      "市团委              0.000000  0.000000      0.000000  0.000000  0.000000   \n",
      "市委办              0.000000  0.000000      0.000000  0.000000  0.000000   \n",
      "市广播电视大学          0.000000  0.000000      0.000000  0.000000  0.000000   \n",
      "市政管理处            0.000000  0.000000      0.000000  0.000000  0.000000   \n",
      "市旅游局             0.000000  0.000000      0.000000  0.000000  0.000000   \n",
      "市民政局             0.000000  0.000000      0.000000  0.000000  0.000000   \n",
      "市第一人民医院          0.000000  0.000000      0.000000  0.000000  0.000000   \n",
      "市纪委              0.000000  0.000000      0.000000  0.000000  0.000000   \n",
      "市经济合作局\\n         0.000000  0.000000      0.000000  0.000000  0.000000   \n",
      "市统计局             0.000000  0.019231      0.000000  0.000000  0.000000   \n",
      "市财政局             0.000000  0.000000      0.000000  0.000000  0.000000   \n",
      "广东省中海油           0.000000  0.000000      0.000000  0.000000  0.000000   \n",
      "江苏路之久工程建设有限公司    0.000000  0.000000      0.000000  0.000000  0.000000   \n",
      "渭源陇原恒新畜牧科技有限公司   0.019231  0.000000      0.000000  0.000000  0.000000   \n",
      "瑞禾农资             0.000000  0.000000      0.000000  0.000000  0.000000   \n",
      "盛泰房地产公司          0.000000  0.000000      0.000000  0.000000  0.000000   \n",
      "省监狱局             0.000000  0.000000      0.000000  0.000000  0.000000   \n",
      "第十一中学北侧校园书店      0.000000  0.000000      0.000000  0.000000  0.000000   \n",
      "老姐饺子馆            0.000000  0.000000      0.000000  0.000000  0.000000   \n",
      "西区管委会            0.000000  0.000000      0.000000  0.000000  0.000000   \n",
      "银中源工贸有限公司        0.000000  0.000000      0.000000  0.000000  0.000000   \n",
      "银光聚银化工有限公司       0.000000  0.000000      0.000000  0.019231  0.000000   \n",
      "长通公司             0.000000  0.000000      0.000000  0.000000  0.000000   \n",
      "陇风巢浴             0.000000  0.000000      0.000000  0.000000  0.000000   \n",
      "陕西省水利水电第三工程局     0.000000  0.000000      0.000000  0.000000  0.019231   \n",
      "All              0.019231  0.019231      0.019231  0.019231  0.019231   \n",
      "\n",
      "母亲工作            公路应急保障与路网监测中心  农行XXX县支行      凤巢浴足  北京路九洋菜市场刘伟鲜面店    北门流觞烟酒  \\\n",
      "父亲工作                                                                         \n",
      "XXX建设局               0.000000  0.000000  0.000000       0.000000  0.000000   \n",
      "XXX镇政府               0.000000  0.000000  0.000000       0.000000  0.000000   \n",
      "万民工程建设有限公司           0.000000  0.000000  0.000000       0.000000  0.000000   \n",
      "万盛体能拓展中心鑫多米便利店       0.000000  0.000000  0.000000       0.000000  0.019231   \n",
      "中铁六局太原铁路建设公司         0.000000  0.000000  0.000000       0.000000  0.000000   \n",
      "元拓科技咨询有限公司           0.000000  0.000000  0.000000       0.000000  0.000000   \n",
      "公安局                  0.000000  0.000000  0.000000       0.000000  0.000000   \n",
      "凯信会议服务有限公司           0.000000  0.000000  0.000000       0.000000  0.000000   \n",
      "北京路九洋菜市场刘伟鲜面店        0.000000  0.000000  0.000000       0.019231  0.000000   \n",
      "区建豪汽修中心              0.000000  0.000000  0.000000       0.000000  0.000000   \n",
      "县瑞金路锦辉消防工程有限公司       0.000000  0.000000  0.000000       0.000000  0.000000   \n",
      "大市场清华电动工具            0.000000  0.000000  0.000000       0.000000  0.000000   \n",
      "大禹工程咨询有限公司           0.000000  0.000000  0.000000       0.000000  0.000000   \n",
      "娟红杂粮食府               0.000000  0.000000  0.000000       0.000000  0.000000   \n",
      "家庭主妇                 0.000000  0.000000  0.000000       0.000000  0.000000   \n",
      "家庭父亲                 0.000000  0.000000  0.000000       0.000000  0.000000   \n",
      "家庭父母                 0.000000  0.000000  0.000000       0.000000  0.000000   \n",
      "市中级人民法院              0.000000  0.019231  0.000000       0.000000  0.000000   \n",
      "市住建局                 0.000000  0.000000  0.000000       0.000000  0.000000   \n",
      "市公安局                 0.000000  0.000000  0.000000       0.000000  0.000000   \n",
      "市农业农村局               0.000000  0.000000  0.000000       0.000000  0.000000   \n",
      "市农业综合行政执法队           0.000000  0.000000  0.000000       0.000000  0.000000   \n",
      "市团委                  0.000000  0.000000  0.000000       0.000000  0.000000   \n",
      "市委办                  0.000000  0.000000  0.000000       0.000000  0.000000   \n",
      "市广播电视大学              0.000000  0.000000  0.000000       0.000000  0.000000   \n",
      "市政管理处                0.000000  0.000000  0.000000       0.000000  0.000000   \n",
      "市旅游局                 0.000000  0.000000  0.000000       0.000000  0.000000   \n",
      "市民政局                 0.000000  0.000000  0.000000       0.000000  0.000000   \n",
      "市第一人民医院              0.019231  0.000000  0.000000       0.000000  0.000000   \n",
      "市纪委                  0.000000  0.000000  0.000000       0.000000  0.000000   \n",
      "市经济合作局\\n             0.000000  0.000000  0.000000       0.000000  0.000000   \n",
      "市统计局                 0.000000  0.000000  0.000000       0.000000  0.000000   \n",
      "市财政局                 0.000000  0.000000  0.000000       0.000000  0.000000   \n",
      "广东省中海油               0.000000  0.000000  0.000000       0.000000  0.000000   \n",
      "江苏路之久工程建设有限公司        0.000000  0.000000  0.000000       0.000000  0.000000   \n",
      "渭源陇原恒新畜牧科技有限公司       0.000000  0.000000  0.000000       0.000000  0.000000   \n",
      "瑞禾农资                 0.000000  0.000000  0.000000       0.000000  0.000000   \n",
      "盛泰房地产公司              0.000000  0.000000  0.000000       0.000000  0.000000   \n",
      "省监狱局                 0.000000  0.000000  0.000000       0.000000  0.000000   \n",
      "第十一中学北侧校园书店          0.000000  0.000000  0.000000       0.000000  0.000000   \n",
      "老姐饺子馆                0.000000  0.000000  0.000000       0.000000  0.000000   \n",
      "西区管委会                0.000000  0.000000  0.000000       0.000000  0.000000   \n",
      "银中源工贸有限公司            0.000000  0.000000  0.000000       0.000000  0.000000   \n",
      "银光聚银化工有限公司           0.000000  0.000000  0.000000       0.000000  0.000000   \n",
      "长通公司                 0.000000  0.000000  0.000000       0.000000  0.000000   \n",
      "陇风巢浴                 0.000000  0.000000  0.019231       0.000000  0.000000   \n",
      "陕西省水利水电第三工程局         0.000000  0.000000  0.000000       0.000000  0.000000   \n",
      "All                  0.019231  0.019231  0.019231       0.019231  0.019231   \n",
      "\n",
      "母亲工作            ...   泰安学校教职工  白银区公园路街道办事处   省第三人民医院  矿冶职业技术学院    纺织路街道办  \\\n",
      "父亲工作            ...                                                        \n",
      "XXX建设局          ...  0.000000     0.000000  0.000000  0.000000  0.000000   \n",
      "XXX镇政府          ...  0.000000     0.000000  0.000000  0.000000  0.000000   \n",
      "万民工程建设有限公司      ...  0.000000     0.000000  0.000000  0.000000  0.000000   \n",
      "万盛体能拓展中心鑫多米便利店  ...  0.000000     0.000000  0.000000  0.000000  0.000000   \n",
      "中铁六局太原铁路建设公司    ...  0.000000     0.000000  0.000000  0.000000  0.000000   \n",
      "元拓科技咨询有限公司      ...  0.000000     0.000000  0.000000  0.000000  0.000000   \n",
      "公安局             ...  0.000000     0.000000  0.000000  0.000000  0.000000   \n",
      "凯信会议服务有限公司      ...  0.000000     0.000000  0.000000  0.000000  0.000000   \n",
      "北京路九洋菜市场刘伟鲜面店   ...  0.000000     0.000000  0.000000  0.000000  0.000000   \n",
      "区建豪汽修中心         ...  0.000000     0.000000  0.000000  0.000000  0.000000   \n",
      "县瑞金路锦辉消防工程有限公司  ...  0.000000     0.000000  0.000000  0.000000  0.000000   \n",
      "大市场清华电动工具       ...  0.000000     0.000000  0.000000  0.000000  0.000000   \n",
      "大禹工程咨询有限公司      ...  0.000000     0.000000  0.000000  0.000000  0.019231   \n",
      "娟红杂粮食府          ...  0.000000     0.000000  0.000000  0.000000  0.000000   \n",
      "家庭主妇            ...  0.000000     0.000000  0.000000  0.000000  0.000000   \n",
      "家庭父亲            ...  0.000000     0.019231  0.000000  0.000000  0.000000   \n",
      "家庭父母            ...  0.000000     0.000000  0.000000  0.000000  0.000000   \n",
      "市中级人民法院         ...  0.000000     0.000000  0.000000  0.000000  0.000000   \n",
      "市住建局            ...  0.000000     0.000000  0.000000  0.000000  0.000000   \n",
      "市公安局            ...  0.000000     0.000000  0.019231  0.000000  0.000000   \n",
      "市农业农村局          ...  0.000000     0.000000  0.000000  0.000000  0.000000   \n",
      "市农业综合行政执法队      ...  0.000000     0.000000  0.000000  0.000000  0.000000   \n",
      "市团委             ...  0.000000     0.000000  0.000000  0.000000  0.000000   \n",
      "市委办             ...  0.000000     0.000000  0.000000  0.000000  0.000000   \n",
      "市广播电视大学         ...  0.000000     0.000000  0.000000  0.000000  0.000000   \n",
      "市政管理处           ...  0.000000     0.000000  0.000000  0.000000  0.000000   \n",
      "市旅游局            ...  0.000000     0.000000  0.000000  0.000000  0.000000   \n",
      "市民政局            ...  0.000000     0.000000  0.000000  0.019231  0.000000   \n",
      "市第一人民医院         ...  0.000000     0.000000  0.000000  0.000000  0.000000   \n",
      "市纪委             ...  0.000000     0.000000  0.000000  0.000000  0.000000   \n",
      "市经济合作局\\n        ...  0.000000     0.000000  0.000000  0.000000  0.000000   \n",
      "市统计局            ...  0.000000     0.000000  0.000000  0.000000  0.000000   \n",
      "市财政局            ...  0.019231     0.000000  0.000000  0.000000  0.000000   \n",
      "广东省中海油          ...  0.000000     0.000000  0.000000  0.000000  0.000000   \n",
      "江苏路之久工程建设有限公司   ...  0.000000     0.000000  0.000000  0.000000  0.000000   \n",
      "渭源陇原恒新畜牧科技有限公司  ...  0.000000     0.000000  0.000000  0.000000  0.000000   \n",
      "瑞禾农资            ...  0.000000     0.000000  0.000000  0.000000  0.000000   \n",
      "盛泰房地产公司         ...  0.000000     0.000000  0.000000  0.000000  0.000000   \n",
      "省监狱局            ...  0.000000     0.000000  0.000000  0.000000  0.000000   \n",
      "第十一中学北侧校园书店     ...  0.000000     0.000000  0.000000  0.000000  0.000000   \n",
      "老姐饺子馆           ...  0.000000     0.000000  0.000000  0.000000  0.000000   \n",
      "西区管委会           ...  0.000000     0.000000  0.000000  0.000000  0.000000   \n",
      "银中源工贸有限公司       ...  0.000000     0.000000  0.000000  0.000000  0.000000   \n",
      "银光聚银化工有限公司      ...  0.000000     0.000000  0.000000  0.000000  0.000000   \n",
      "长通公司            ...  0.000000     0.000000  0.000000  0.000000  0.000000   \n",
      "陇风巢浴            ...  0.000000     0.000000  0.000000  0.000000  0.000000   \n",
      "陕西省水利水电第三工程局    ...  0.000000     0.000000  0.000000  0.000000  0.000000   \n",
      "All             ...  0.019231     0.019231  0.019231  0.019231  0.019231   \n",
      "\n",
      "母亲工作            美年大健康有限公司  鑫智点交通设施有限公司  长城国际旅行社有限责任公司    顶新文化公司       All  \n",
      "父亲工作                                                                       \n",
      "XXX建设局           0.000000     0.000000       0.000000  0.000000  0.019231  \n",
      "XXX镇政府           0.019231     0.000000       0.000000  0.000000  0.019231  \n",
      "万民工程建设有限公司       0.000000     0.000000       0.000000  0.000000  0.019231  \n",
      "万盛体能拓展中心鑫多米便利店   0.000000     0.000000       0.000000  0.000000  0.019231  \n",
      "中铁六局太原铁路建设公司     0.000000     0.019231       0.000000  0.000000  0.019231  \n",
      "元拓科技咨询有限公司       0.000000     0.000000       0.000000  0.000000  0.019231  \n",
      "公安局              0.000000     0.000000       0.000000  0.000000  0.019231  \n",
      "凯信会议服务有限公司       0.000000     0.000000       0.019231  0.000000  0.019231  \n",
      "北京路九洋菜市场刘伟鲜面店    0.000000     0.000000       0.000000  0.000000  0.019231  \n",
      "区建豪汽修中心          0.000000     0.000000       0.000000  0.000000  0.038462  \n",
      "县瑞金路锦辉消防工程有限公司   0.000000     0.000000       0.000000  0.000000  0.019231  \n",
      "大市场清华电动工具        0.000000     0.000000       0.000000  0.000000  0.019231  \n",
      "大禹工程咨询有限公司       0.000000     0.000000       0.000000  0.000000  0.019231  \n",
      "娟红杂粮食府           0.000000     0.000000       0.000000  0.000000  0.019231  \n",
      "家庭主妇             0.000000     0.000000       0.000000  0.000000  0.019231  \n",
      "家庭父亲             0.000000     0.000000       0.000000  0.000000  0.019231  \n",
      "家庭父母             0.000000     0.000000       0.000000  0.000000  0.019231  \n",
      "市中级人民法院          0.000000     0.000000       0.000000  0.000000  0.019231  \n",
      "市住建局             0.000000     0.000000       0.000000  0.000000  0.038462  \n",
      "市公安局             0.000000     0.000000       0.000000  0.000000  0.038462  \n",
      "市农业农村局           0.000000     0.000000       0.000000  0.000000  0.019231  \n",
      "市农业综合行政执法队       0.000000     0.000000       0.000000  0.000000  0.019231  \n",
      "市团委              0.000000     0.000000       0.000000  0.000000  0.019231  \n",
      "市委办              0.000000     0.000000       0.000000  0.000000  0.019231  \n",
      "市广播电视大学          0.000000     0.000000       0.000000  0.000000  0.019231  \n",
      "市政管理处            0.000000     0.000000       0.000000  0.000000  0.019231  \n",
      "市旅游局             0.000000     0.000000       0.000000  0.000000  0.019231  \n",
      "市民政局             0.000000     0.000000       0.000000  0.000000  0.019231  \n",
      "市第一人民医院          0.000000     0.000000       0.000000  0.000000  0.019231  \n",
      "市纪委              0.000000     0.000000       0.000000  0.000000  0.019231  \n",
      "市经济合作局\\n         0.000000     0.000000       0.000000  0.000000  0.019231  \n",
      "市统计局             0.000000     0.000000       0.000000  0.000000  0.019231  \n",
      "市财政局             0.000000     0.000000       0.000000  0.000000  0.038462  \n",
      "广东省中海油           0.000000     0.000000       0.000000  0.000000  0.019231  \n",
      "江苏路之久工程建设有限公司    0.000000     0.000000       0.000000  0.000000  0.019231  \n",
      "渭源陇原恒新畜牧科技有限公司   0.000000     0.000000       0.000000  0.000000  0.019231  \n",
      "瑞禾农资             0.000000     0.000000       0.000000  0.000000  0.019231  \n",
      "盛泰房地产公司          0.000000     0.000000       0.000000  0.000000  0.038462  \n",
      "省监狱局             0.000000     0.000000       0.000000  0.000000  0.019231  \n",
      "第十一中学北侧校园书店      0.000000     0.000000       0.000000  0.019231  0.019231  \n",
      "老姐饺子馆            0.000000     0.000000       0.000000  0.000000  0.019231  \n",
      "西区管委会            0.000000     0.000000       0.000000  0.000000  0.019231  \n",
      "银中源工贸有限公司        0.000000     0.000000       0.000000  0.000000  0.019231  \n",
      "银光聚银化工有限公司       0.000000     0.000000       0.000000  0.000000  0.019231  \n",
      "长通公司             0.000000     0.000000       0.000000  0.000000  0.019231  \n",
      "陇风巢浴             0.000000     0.000000       0.000000  0.000000  0.019231  \n",
      "陕西省水利水电第三工程局     0.000000     0.000000       0.000000  0.000000  0.019231  \n",
      "All              0.019231     0.019231       0.019231  0.019231  1.000000  \n",
      "\n",
      "[48 rows x 42 columns]\n"
     ]
    }
   ],
   "source": [
    "# 生成交叉分析表  \n",
    "cross_tab = pd.crosstab(父母职业表[\"父亲工作\"], 父母职业表[\"母亲工作\"],\n",
    "                            margins=True, normalize=True)\n",
    "  \n",
    "print(cross_tab)"
   ]
  },
  {
   "cell_type": "code",
   "execution_count": 45,
   "metadata": {},
   "outputs": [
    {
     "name": "stdout",
     "output_type": "stream",
     "text": [
      "0.7906544628724796\n"
     ]
    }
   ],
   "source": [
    "# 计算tauy\n",
    "tau_y = mytools.goodmanKruska_tau_y(父母职业表,'母亲工作','父亲工作')\n",
    "print(tau_y)"
   ]
  },
  {
   "cell_type": "code",
   "execution_count": 46,
   "metadata": {},
   "outputs": [],
   "source": [
    "# 评价tauy\n",
    "#tau_y用于衡量两个有序分类变量之间的关系强度和方向，它是用来计算基于“母亲工作”和“父亲工作”两个有序分类变量的关联程度。\n",
    "#tau_y 的值范围在 -1 到 +1 之间。\n",
    "#正值表示两个变量正相关，即当一个变量增加时，另一个也倾向于增加；反之亦然。\n",
    "#值越接近 +1 或 -1 表示关系越强；接近 0 表示关系弱或无关系。\n",
    "#例如，tau_y 的结果是0.7906544628724796，那么我们可以解释为“母亲工作”和“父亲工作”之间存在一个极强的正相关性"
   ]
  }
 ],
 "metadata": {
  "kernelspec": {
   "display_name": "Python 3",
   "language": "python",
   "name": "python3"
  },
  "language_info": {
   "codemirror_mode": {
    "name": "ipython",
    "version": 3
   },
   "file_extension": ".py",
   "mimetype": "text/x-python",
   "name": "python",
   "nbconvert_exporter": "python",
   "pygments_lexer": "ipython3",
   "version": "3.8.10"
  }
 },
 "nbformat": 4,
 "nbformat_minor": 2
}
