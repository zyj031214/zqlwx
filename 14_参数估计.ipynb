{
 "cells": [
  {
   "cell_type": "code",
   "execution_count": 12,
   "metadata": {},
   "outputs": [],
   "source": [
    "import pandas as pd\n",
    "from scipy import stats\n",
    "# 打开数据文件\n",
    "file_path = R\"C:\\Users\\34426\\Desktop\\zqlwx\\movie_data_cleaned.csv\"\n",
    "df_movies = pd.read_csv(file_path)"
   ]
  },
  {
   "cell_type": "code",
   "execution_count": 13,
   "metadata": {},
   "outputs": [
    {
     "name": "stdout",
     "output_type": "stream",
     "text": [
      "均值： 7.20\n",
      "均值在置信水平0.95下的置信区间为： (7.171337577138237, 7.2214184794700635)\n"
     ]
    }
   ],
   "source": [
    "# 计算均值和标准误差\n",
    "mean = df_movies['average'].mean()\n",
    "std_error = stats.sem(df_movies['average'])\n",
    "# 设定置信水平\n",
    "confidence_level = 0.95\n",
    "# 设定自由度\n",
    "df = len(df_movies['average']) - 1\n",
    "# 计算置信区间\n",
    "confidence_interval = stats.t.interval(confidence_level, df, loc=mean, scale=std_error)\n",
    "# 输出结果\n",
    "print(F\"均值：{mean: .2f}\")\n",
    "print(F\"均值在置信水平{confidence_level}下的置信区间为：\", confidence_interval)"
   ]
  },
  {
   "cell_type": "code",
   "execution_count": 14,
   "metadata": {},
   "outputs": [
    {
     "name": "stdout",
     "output_type": "stream",
     "text": [
      "      Unnamed: 0  average     country                     genre  \\\n",
      "7415        9082      6.6          美国        ['动作', '惊悚', '犯罪']   \n",
      "5322        5704      8.0        中国香港        ['动作', '武侠', '古装']   \n",
      "5650        6049      6.0        澳大利亚                    ['悬疑']   \n",
      "5578        5970      8.5          日本        ['科幻', '动画', '冒险']   \n",
      "3558        3597      7.2          美国  ['喜剧', '动画', '家庭', '奇幻']   \n",
      "...          ...      ...         ...                       ...   \n",
      "548          549      5.0   中国大陆 / 印度        ['喜剧', '动作', '冒险']   \n",
      "5768        6174      7.5        中国大陆              ['剧情', '战争']   \n",
      "6776        7775      6.4          韩国                    ['剧情']   \n",
      "8261       10350      3.9        中国大陆              ['喜剧', '爱情']   \n",
      "92            92      7.6   美国 / 澳大利亚        ['动作', '奇幻', '冒险']   \n",
      "\n",
      "                      language release_date  \\\n",
      "7415                   英语 / 法语   1993-11-04   \n",
      "5322                     汉语普通话   1971-02-07   \n",
      "5650                        英语   2020-02-27   \n",
      "5578                        日语   1996-03-02   \n",
      "3558                        英语   2005-10-11   \n",
      "...                        ...          ...   \n",
      "548    汉语普通话 / 英语 / 印地语 / 阿拉伯语   2017-01-28   \n",
      "5768                     汉语普通话         1955   \n",
      "6776                        韩语   2018-02-16   \n",
      "8261                     汉语普通话   2016-11-25   \n",
      "92        英语 / 毛利语 / 意大利语 / 俄语   2018-12-07   \n",
      "\n",
      "                                          title     votes  \n",
      "7415                           终极标靶 Hard Target    3540.0  \n",
      "5322                                  新独臂刀 新獨臂刀    9092.0  \n",
      "5650  费雪小姐和泪之穴 Miss Fisher & the Crypt of Tears     521.0  \n",
      "5578              哆啦A梦：大雄与银河超特急 ドラえもん のび太と銀河超特急    3986.0  \n",
      "3558                     精灵鼠小弟3 Stuart Little 3       NaN  \n",
      "...                                         ...       ...  \n",
      "548                                        功夫瑜伽  151688.0  \n",
      "5768                                      平原游击队    6126.0  \n",
      "6776                                    草叶集 풀잎들    3754.0  \n",
      "8261                                      最萌身高差    3724.0  \n",
      "92                                   海王 Aquaman  738417.0  \n",
      "\n",
      "[100 rows x 8 columns]\n"
     ]
    }
   ],
   "source": [
    "import pandas as pd    \n",
    "  \n",
    "# 使用read_csv函数从CSV文件读取数据到DataFrame  \n",
    "file_path = 'C:\\\\Users\\\\34426\\\\Desktop\\\\zqlwx\\\\movie_data_cleaned.csv'  \n",
    "df = pd.read_csv(file_path)    \n",
    "  \n",
    "# 使用sample函数随机抽取100行    \n",
    "sample_df = df.sample(n=100)    \n",
    "  \n",
    "print(sample_df)"
   ]
  },
  {
   "cell_type": "code",
   "execution_count": 17,
   "metadata": {},
   "outputs": [
    {
     "name": "stdout",
     "output_type": "stream",
     "text": [
      "均值： 7.15\n",
      "均值在置信水平0.95下的置信区间为： (6.919437474640064, 7.388562525359935)\n"
     ]
    }
   ],
   "source": [
    "# 计算均值和标准误差\n",
    "mean =sample_df ['average'].mean()\n",
    "std_error = stats.sem(sample_df['average'])\n",
    "# 设定置信水平\n",
    "confidence_level = 0.95\n",
    "# 设定自由度\n",
    "df = len(sample_df['average']) - 1\n",
    "# 计算置信区间\n",
    "confidence_interval = stats.t.interval(confidence_level, df, loc=mean, scale=std_error)\n",
    "# 输出结果\n",
    "print(F\"均值：{mean: .2f}\")\n",
    "print(F\"均值在置信水平{confidence_level}下的置信区间为：\", confidence_interval)"
   ]
  }
 ],
 "metadata": {
  "kernelspec": {
   "display_name": "Python 3",
   "language": "python",
   "name": "python3"
  },
  "language_info": {
   "codemirror_mode": {
    "name": "ipython",
    "version": 3
   },
   "file_extension": ".py",
   "mimetype": "text/x-python",
   "name": "python",
   "nbconvert_exporter": "python",
   "pygments_lexer": "ipython3",
   "version": "3.8.10"
  }
 },
 "nbformat": 4,
 "nbformat_minor": 2
}
