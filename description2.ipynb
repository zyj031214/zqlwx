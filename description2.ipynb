{
 "cells": [
  {
   "cell_type": "code",
   "execution_count": 85,
   "metadata": {},
   "outputs": [],
   "source": [
    "import pandas as pd\n",
    "from pyreadstat import pyreadstat\n",
    "import mytools\n",
    "df, metadata = pyreadstat.read_sav(R'C:\\Users\\34426\\Desktop\\zqlwx\\identity.sav',apply_value_formats=True,formats_as_ordered_category=True)"
   ]
  },
  {
   "cell_type": "code",
   "execution_count": 86,
   "metadata": {},
   "outputs": [],
   "source": [
    "result = df['会打多少分'].value_counts(sort=False)\n",
    "描述统计表 = pd.DataFrame(result)\n",
    "描述统计表['比例'] = 描述统计表['count'] / 描述统计表['count'].sum()\n",
    "描述统计表['累计比例'] = 描述统计表['比例'].cumsum()"
   ]
  },
  {
   "cell_type": "code",
   "execution_count": 87,
   "metadata": {},
   "outputs": [],
   "source": [
    "def 有序变量描述统计函数(表名, 变量名):\n",
    "    result = 表名[变量名].value_counts(sort=False)\n",
    "    描述统计表 = pd.DataFrame(result)\n",
    "    描述统计表['比例'] = 描述统计表['count'] / 描述统计表['count'].sum()\n",
    "    描述统计表['累计比例'] = 描述统计表['比例'].cumsum()\n",
    "    return 描述统计表"
   ]
  },
  {
   "cell_type": "code",
   "execution_count": 88,
   "metadata": {},
   "outputs": [
    {
     "data": {
      "text/html": [
       "<div>\n",
       "<style scoped>\n",
       "    .dataframe tbody tr th:only-of-type {\n",
       "        vertical-align: middle;\n",
       "    }\n",
       "\n",
       "    .dataframe tbody tr th {\n",
       "        vertical-align: top;\n",
       "    }\n",
       "\n",
       "    .dataframe thead th {\n",
       "        text-align: right;\n",
       "    }\n",
       "</style>\n",
       "<table border=\"1\" class=\"dataframe\">\n",
       "  <thead>\n",
       "    <tr style=\"text-align: right;\">\n",
       "      <th></th>\n",
       "      <th>count</th>\n",
       "      <th>比例</th>\n",
       "      <th>累计比例</th>\n",
       "    </tr>\n",
       "    <tr>\n",
       "      <th>会打多少分</th>\n",
       "      <th></th>\n",
       "      <th></th>\n",
       "      <th></th>\n",
       "    </tr>\n",
       "  </thead>\n",
       "  <tbody>\n",
       "    <tr>\n",
       "      <th>零到二十</th>\n",
       "      <td>27</td>\n",
       "      <td>0.031106</td>\n",
       "      <td>0.031106</td>\n",
       "    </tr>\n",
       "    <tr>\n",
       "      <th>20~40</th>\n",
       "      <td>28</td>\n",
       "      <td>0.032258</td>\n",
       "      <td>0.063364</td>\n",
       "    </tr>\n",
       "    <tr>\n",
       "      <th>四十到六十</th>\n",
       "      <td>163</td>\n",
       "      <td>0.187788</td>\n",
       "      <td>0.251152</td>\n",
       "    </tr>\n",
       "    <tr>\n",
       "      <th>六十到八十</th>\n",
       "      <td>413</td>\n",
       "      <td>0.475806</td>\n",
       "      <td>0.726959</td>\n",
       "    </tr>\n",
       "    <tr>\n",
       "      <th>八十到一百</th>\n",
       "      <td>237</td>\n",
       "      <td>0.273041</td>\n",
       "      <td>1.000000</td>\n",
       "    </tr>\n",
       "  </tbody>\n",
       "</table>\n",
       "</div>"
      ],
      "text/plain": [
       "       count        比例      累计比例\n",
       "会打多少分                           \n",
       "零到二十      27  0.031106  0.031106\n",
       "20~40     28  0.032258  0.063364\n",
       "四十到六十    163  0.187788  0.251152\n",
       "六十到八十    413  0.475806  0.726959\n",
       "八十到一百    237  0.273041  1.000000"
      ]
     },
     "execution_count": 88,
     "metadata": {},
     "output_type": "execute_result"
    }
   ],
   "source": [
    "有序变量描述统计函数(df, '会打多少分')"
   ]
  },
  {
   "cell_type": "code",
   "execution_count": 89,
   "metadata": {},
   "outputs": [
    {
     "data": {
      "text/html": [
       "<div>\n",
       "<style scoped>\n",
       "    .dataframe tbody tr th:only-of-type {\n",
       "        vertical-align: middle;\n",
       "    }\n",
       "\n",
       "    .dataframe tbody tr th {\n",
       "        vertical-align: top;\n",
       "    }\n",
       "\n",
       "    .dataframe thead th {\n",
       "        text-align: right;\n",
       "    }\n",
       "</style>\n",
       "<table border=\"1\" class=\"dataframe\">\n",
       "  <thead>\n",
       "    <tr style=\"text-align: right;\">\n",
       "      <th></th>\n",
       "      <th>count</th>\n",
       "      <th>比例</th>\n",
       "      <th>累计比例</th>\n",
       "    </tr>\n",
       "    <tr>\n",
       "      <th>您觉得中国怎么样</th>\n",
       "      <th></th>\n",
       "      <th></th>\n",
       "      <th></th>\n",
       "    </tr>\n",
       "  </thead>\n",
       "  <tbody>\n",
       "    <tr>\n",
       "      <th>很差劲</th>\n",
       "      <td>15</td>\n",
       "      <td>0.017341</td>\n",
       "      <td>0.017341</td>\n",
       "    </tr>\n",
       "    <tr>\n",
       "      <th>较差</th>\n",
       "      <td>38</td>\n",
       "      <td>0.043931</td>\n",
       "      <td>0.061272</td>\n",
       "    </tr>\n",
       "    <tr>\n",
       "      <th>一般般</th>\n",
       "      <td>197</td>\n",
       "      <td>0.227746</td>\n",
       "      <td>0.289017</td>\n",
       "    </tr>\n",
       "    <tr>\n",
       "      <th>挺好</th>\n",
       "      <td>474</td>\n",
       "      <td>0.547977</td>\n",
       "      <td>0.836994</td>\n",
       "    </tr>\n",
       "    <tr>\n",
       "      <th>十分棒</th>\n",
       "      <td>141</td>\n",
       "      <td>0.163006</td>\n",
       "      <td>1.000000</td>\n",
       "    </tr>\n",
       "  </tbody>\n",
       "</table>\n",
       "</div>"
      ],
      "text/plain": [
       "          count        比例      累计比例\n",
       "您觉得中国怎么样                           \n",
       "很差劲          15  0.017341  0.017341\n",
       "较差           38  0.043931  0.061272\n",
       "一般般         197  0.227746  0.289017\n",
       "挺好          474  0.547977  0.836994\n",
       "十分棒         141  0.163006  1.000000"
      ]
     },
     "execution_count": 89,
     "metadata": {},
     "output_type": "execute_result"
    }
   ],
   "source": [
    "有序变量描述统计函数(df, '您觉得中国怎么样')"
   ]
  },
  {
   "cell_type": "code",
   "execution_count": 90,
   "metadata": {},
   "outputs": [],
   "source": [
    "result = df['会打多少分'].value_counts(sort=False,normalize=True)\n",
    "df_result = pd.DataFrame(result)\n",
    "df_result['累计求和'] = result.values.cumsum()"
   ]
  }
 ],
 "metadata": {
  "kernelspec": {
   "display_name": "Python 3",
   "language": "python",
   "name": "python3"
  },
  "language_info": {
   "codemirror_mode": {
    "name": "ipython",
    "version": 3
   },
   "file_extension": ".py",
   "mimetype": "text/x-python",
   "name": "python",
   "nbconvert_exporter": "python",
   "pygments_lexer": "ipython3",
   "version": "3.8.10"
  }
 },
 "nbformat": 4,
 "nbformat_minor": 2
}
