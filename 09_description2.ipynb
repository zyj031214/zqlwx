{
 "cells": [
  {
   "cell_type": "code",
   "execution_count": 2,
   "metadata": {},
   "outputs": [],
   "source": [
    "import pandas as pd\n",
    "import matplotlib.pyplot as plt\n",
    "from pyreadstat import pyreadstat\n",
    "import mytools\n",
    "\n",
    "国家认同调查数据表, metadata = pyreadstat.read_sav(R'C:\\Users\\34426\\Desktop\\zqlwx\\identity.sav',apply_value_formats=True,formats_as_ordered_category=True)\n",
    "result = 国家认同调查数据表['会打多少分'].value_counts(sort=False)"
   ]
  },
  {
   "cell_type": "code",
   "execution_count": 3,
   "metadata": {},
   "outputs": [
    {
     "data": {
      "text/html": [
       "<div>\n",
       "<style scoped>\n",
       "    .dataframe tbody tr th:only-of-type {\n",
       "        vertical-align: middle;\n",
       "    }\n",
       "\n",
       "    .dataframe tbody tr th {\n",
       "        vertical-align: top;\n",
       "    }\n",
       "\n",
       "    .dataframe thead th {\n",
       "        text-align: right;\n",
       "    }\n",
       "</style>\n",
       "<table border=\"1\" class=\"dataframe\">\n",
       "  <thead>\n",
       "    <tr style=\"text-align: right;\">\n",
       "      <th></th>\n",
       "      <th>count</th>\n",
       "      <th>比例</th>\n",
       "      <th>累计比例</th>\n",
       "    </tr>\n",
       "    <tr>\n",
       "      <th>您觉得中国怎么样</th>\n",
       "      <th></th>\n",
       "      <th></th>\n",
       "      <th></th>\n",
       "    </tr>\n",
       "  </thead>\n",
       "  <tbody>\n",
       "    <tr>\n",
       "      <th>很差劲</th>\n",
       "      <td>15</td>\n",
       "      <td>0.017341</td>\n",
       "      <td>0.017341</td>\n",
       "    </tr>\n",
       "    <tr>\n",
       "      <th>较差</th>\n",
       "      <td>38</td>\n",
       "      <td>0.043931</td>\n",
       "      <td>0.061272</td>\n",
       "    </tr>\n",
       "    <tr>\n",
       "      <th>一般般</th>\n",
       "      <td>197</td>\n",
       "      <td>0.227746</td>\n",
       "      <td>0.289017</td>\n",
       "    </tr>\n",
       "    <tr>\n",
       "      <th>挺好</th>\n",
       "      <td>474</td>\n",
       "      <td>0.547977</td>\n",
       "      <td>0.836994</td>\n",
       "    </tr>\n",
       "    <tr>\n",
       "      <th>十分棒</th>\n",
       "      <td>141</td>\n",
       "      <td>0.163006</td>\n",
       "      <td>1.000000</td>\n",
       "    </tr>\n",
       "  </tbody>\n",
       "</table>\n",
       "</div>"
      ],
      "text/plain": [
       "          count        比例      累计比例\n",
       "您觉得中国怎么样                           \n",
       "很差劲          15  0.017341  0.017341\n",
       "较差           38  0.043931  0.061272\n",
       "一般般         197  0.227746  0.289017\n",
       "挺好          474  0.547977  0.836994\n",
       "十分棒         141  0.163006  1.000000"
      ]
     },
     "execution_count": 3,
     "metadata": {},
     "output_type": "execute_result"
    }
   ],
   "source": [
    "描述统计结果表 = mytools.有序变量描述统计函数(国家认同调查数据表,'您觉得中国怎么样')\n",
    "描述统计结果表"
   ]
  },
  {
   "cell_type": "code",
   "execution_count": 4,
   "metadata": {},
   "outputs": [
    {
     "data": {
      "image/png": "[encoded data removed]",
      "text/plain": [
       "<Figure size 640x480 with 1 Axes>"
      ]
     },
     "metadata": {},
     "output_type": "display_data"
    }
   ],
   "source": [
    "mytools.绘制直方图(描述统计结果表)"
   ]
  },
  {
   "cell_type": "code",
   "execution_count": 5,
   "metadata": {},
   "outputs": [],
   "source": [
    "数据表 = mytools.读取SPSS数据文件(R'C:\\Users\\34426\\Desktop\\zqlwx\\identity.sav',False)"
   ]
  },
  {
   "cell_type": "code",
   "execution_count": 6,
   "metadata": {},
   "outputs": [],
   "source": [
    "# dataframe 变量生成\n",
    "数据表['自豪感'] = 数据表.会打多少分 + 数据表.您觉得中国怎么样"
   ]
  },
  {
   "cell_type": "code",
   "execution_count": 7,
   "metadata": {},
   "outputs": [
    {
     "data": {
      "text/plain": [
       "count    865.000000\n",
       "mean       7.724855\n",
       "std        1.483909\n",
       "min        2.000000\n",
       "25%        7.000000\n",
       "50%        8.000000\n",
       "75%        9.000000\n",
       "max       10.000000\n",
       "Name: 自豪感, dtype: float64"
      ]
     },
     "execution_count": 7,
     "metadata": {},
     "output_type": "execute_result"
    }
   ],
   "source": [
    "数据表.自豪感.describe()"
   ]
  },
  {
   "cell_type": "code",
   "execution_count": 8,
   "metadata": {},
   "outputs": [
    {
     "data": {
      "text/plain": [
       "0    8.0\n",
       "Name: 自豪感, dtype: float64"
      ]
     },
     "execution_count": 8,
     "metadata": {},
     "output_type": "execute_result"
    }
   ],
   "source": [
    "数据表['自豪感'].mode()"
   ]
  }
 ],
 "metadata": {
  "kernelspec": {
   "display_name": "Python 3",
   "language": "python",
   "name": "python3"
  },
  "language_info": {
   "codemirror_mode": {
    "name": "ipython",
    "version": 3
   },
   "file_extension": ".py",
   "mimetype": "text/x-python",
   "name": "python",
   "nbconvert_exporter": "python",
   "pygments_lexer": "ipython3",
   "version": "3.8.10"
  }
 },
 "nbformat": 4,
 "nbformat_minor": 2
}
